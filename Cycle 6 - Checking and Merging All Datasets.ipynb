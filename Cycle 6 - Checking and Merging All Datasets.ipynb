{
 "cells": [
  {
   "cell_type": "markdown",
   "metadata": {},
   "source": [
    "# 0. Imports"
   ]
  },
  {
   "cell_type": "code",
   "execution_count": 466,
   "metadata": {},
   "outputs": [],
   "source": [
    "import pandas as pd\n",
    "import numpy as np"
   ]
  },
  {
   "cell_type": "markdown",
   "metadata": {},
   "source": [
    "# 1. Loading Data"
   ]
  },
  {
   "cell_type": "code",
   "execution_count": 467,
   "metadata": {},
   "outputs": [],
   "source": [
    "df_matches1 = pd.read_csv('./datasets/WorldCupMatches.csv')\n",
    "df_economic1 = pd.read_csv('./datasets/WorldBankData.csv')\n",
    "df_elo1 = pd.read_csv('./datasets/elo_rating.csv')\n",
    "df_ranking1 = pd.read_csv('./datasets/fifa_ranking_before_wc.csv')"
   ]
  },
  {
   "cell_type": "code",
   "execution_count": 468,
   "metadata": {},
   "outputs": [
    {
     "data": {
      "text/html": [
       "<div>\n",
       "<style scoped>\n",
       "    .dataframe tbody tr th:only-of-type {\n",
       "        vertical-align: middle;\n",
       "    }\n",
       "\n",
       "    .dataframe tbody tr th {\n",
       "        vertical-align: top;\n",
       "    }\n",
       "\n",
       "    .dataframe thead th {\n",
       "        text-align: right;\n",
       "    }\n",
       "</style>\n",
       "<table border=\"1\" class=\"dataframe\">\n",
       "  <thead>\n",
       "    <tr style=\"text-align: right;\">\n",
       "      <th></th>\n",
       "      <th>Unnamed: 0</th>\n",
       "      <th>Year</th>\n",
       "      <th>Datetime</th>\n",
       "      <th>Home Team Name</th>\n",
       "      <th>Away Team Name</th>\n",
       "      <th>Home Team Goals</th>\n",
       "      <th>Away Team Goals</th>\n",
       "    </tr>\n",
       "  </thead>\n",
       "  <tbody>\n",
       "    <tr>\n",
       "      <th>0</th>\n",
       "      <td>0</td>\n",
       "      <td>1930</td>\n",
       "      <td>13 Jul 1930 - 15:00</td>\n",
       "      <td>France</td>\n",
       "      <td>Mexico</td>\n",
       "      <td>4.0</td>\n",
       "      <td>1.0</td>\n",
       "    </tr>\n",
       "    <tr>\n",
       "      <th>1</th>\n",
       "      <td>1</td>\n",
       "      <td>1930</td>\n",
       "      <td>13 Jul 1930 - 15:00</td>\n",
       "      <td>USA</td>\n",
       "      <td>Belgium</td>\n",
       "      <td>3.0</td>\n",
       "      <td>0.0</td>\n",
       "    </tr>\n",
       "    <tr>\n",
       "      <th>2</th>\n",
       "      <td>2</td>\n",
       "      <td>1930</td>\n",
       "      <td>14 Jul 1930 - 12:45</td>\n",
       "      <td>Yugoslavia</td>\n",
       "      <td>Brazil</td>\n",
       "      <td>2.0</td>\n",
       "      <td>1.0</td>\n",
       "    </tr>\n",
       "    <tr>\n",
       "      <th>3</th>\n",
       "      <td>3</td>\n",
       "      <td>1930</td>\n",
       "      <td>14 Jul 1930 - 14:50</td>\n",
       "      <td>Romania</td>\n",
       "      <td>Peru</td>\n",
       "      <td>3.0</td>\n",
       "      <td>1.0</td>\n",
       "    </tr>\n",
       "    <tr>\n",
       "      <th>4</th>\n",
       "      <td>4</td>\n",
       "      <td>1930</td>\n",
       "      <td>15 Jul 1930 - 16:00</td>\n",
       "      <td>Argentina</td>\n",
       "      <td>France</td>\n",
       "      <td>1.0</td>\n",
       "      <td>0.0</td>\n",
       "    </tr>\n",
       "  </tbody>\n",
       "</table>\n",
       "</div>"
      ],
      "text/plain": [
       "   Unnamed: 0  Year              Datetime Home Team Name Away Team Name  \\\n",
       "0           0  1930  13 Jul 1930 - 15:00          France         Mexico   \n",
       "1           1  1930  13 Jul 1930 - 15:00             USA        Belgium   \n",
       "2           2  1930  14 Jul 1930 - 12:45      Yugoslavia         Brazil   \n",
       "3           3  1930  14 Jul 1930 - 14:50         Romania           Peru   \n",
       "4           4  1930  15 Jul 1930 - 16:00       Argentina         France   \n",
       "\n",
       "   Home Team Goals  Away Team Goals  \n",
       "0              4.0              1.0  \n",
       "1              3.0              0.0  \n",
       "2              2.0              1.0  \n",
       "3              3.0              1.0  \n",
       "4              1.0              0.0  "
      ]
     },
     "execution_count": 468,
     "metadata": {},
     "output_type": "execute_result"
    }
   ],
   "source": [
    "df_matches1.head()"
   ]
  },
  {
   "cell_type": "code",
   "execution_count": 469,
   "metadata": {},
   "outputs": [
    {
     "data": {
      "text/html": [
       "<div>\n",
       "<style scoped>\n",
       "    .dataframe tbody tr th:only-of-type {\n",
       "        vertical-align: middle;\n",
       "    }\n",
       "\n",
       "    .dataframe tbody tr th {\n",
       "        vertical-align: top;\n",
       "    }\n",
       "\n",
       "    .dataframe thead th {\n",
       "        text-align: right;\n",
       "    }\n",
       "</style>\n",
       "<table border=\"1\" class=\"dataframe\">\n",
       "  <thead>\n",
       "    <tr style=\"text-align: right;\">\n",
       "      <th></th>\n",
       "      <th>Unnamed: 0</th>\n",
       "      <th>Country Name</th>\n",
       "      <th>Country Code</th>\n",
       "      <th>Series Name</th>\n",
       "      <th>YR1993</th>\n",
       "      <th>YR1997</th>\n",
       "      <th>YR2001</th>\n",
       "      <th>YR2005</th>\n",
       "      <th>YR2009</th>\n",
       "      <th>YR2013</th>\n",
       "      <th>YR2017</th>\n",
       "      <th>YR2020</th>\n",
       "    </tr>\n",
       "  </thead>\n",
       "  <tbody>\n",
       "    <tr>\n",
       "      <th>0</th>\n",
       "      <td>0</td>\n",
       "      <td>Afghanistan</td>\n",
       "      <td>AFG</td>\n",
       "      <td>GDP</td>\n",
       "      <td>..</td>\n",
       "      <td>..</td>\n",
       "      <td>..</td>\n",
       "      <td>6209137624.77181</td>\n",
       "      <td>12416161048.8412</td>\n",
       "      <td>20146404996.223</td>\n",
       "      <td>18753469630.2586</td>\n",
       "      <td>20116137325.8206</td>\n",
       "    </tr>\n",
       "    <tr>\n",
       "      <th>1</th>\n",
       "      <td>1</td>\n",
       "      <td>Afghanistan</td>\n",
       "      <td>AFG</td>\n",
       "      <td>POP</td>\n",
       "      <td>15816601</td>\n",
       "      <td>19357126</td>\n",
       "      <td>21606992</td>\n",
       "      <td>25654274</td>\n",
       "      <td>28394806</td>\n",
       "      <td>32269592</td>\n",
       "      <td>36296111</td>\n",
       "      <td>38928341</td>\n",
       "    </tr>\n",
       "    <tr>\n",
       "      <th>2</th>\n",
       "      <td>2</td>\n",
       "      <td>Afghanistan</td>\n",
       "      <td>AFG</td>\n",
       "      <td>INC</td>\n",
       "      <td>..</td>\n",
       "      <td>..</td>\n",
       "      <td>..</td>\n",
       "      <td>..</td>\n",
       "      <td>397.870876381663</td>\n",
       "      <td>573.372758018691</td>\n",
       "      <td>486.034777839794</td>\n",
       "      <td>475.620362308779</td>\n",
       "    </tr>\n",
       "    <tr>\n",
       "      <th>3</th>\n",
       "      <td>3</td>\n",
       "      <td>Albania</td>\n",
       "      <td>ALB</td>\n",
       "      <td>GDP</td>\n",
       "      <td>1185315468.46295</td>\n",
       "      <td>2258513974.0968</td>\n",
       "      <td>3922100793.5403</td>\n",
       "      <td>8052073539.38058</td>\n",
       "      <td>12044208085.864</td>\n",
       "      <td>12776220507.0162</td>\n",
       "      <td>13019689336.6919</td>\n",
       "      <td>15131866270.5936</td>\n",
       "    </tr>\n",
       "    <tr>\n",
       "      <th>4</th>\n",
       "      <td>4</td>\n",
       "      <td>Albania</td>\n",
       "      <td>ALB</td>\n",
       "      <td>POP</td>\n",
       "      <td>3227287</td>\n",
       "      <td>3148281</td>\n",
       "      <td>3060173</td>\n",
       "      <td>3011487</td>\n",
       "      <td>2927519</td>\n",
       "      <td>2895092</td>\n",
       "      <td>2873457</td>\n",
       "      <td>2837849</td>\n",
       "    </tr>\n",
       "  </tbody>\n",
       "</table>\n",
       "</div>"
      ],
      "text/plain": [
       "   Unnamed: 0 Country Name Country Code Series Name            YR1993  \\\n",
       "0           0  Afghanistan          AFG         GDP                ..   \n",
       "1           1  Afghanistan          AFG         POP          15816601   \n",
       "2           2  Afghanistan          AFG         INC                ..   \n",
       "3           3      Albania          ALB         GDP  1185315468.46295   \n",
       "4           4      Albania          ALB         POP           3227287   \n",
       "\n",
       "            YR1997           YR2001            YR2005            YR2009  \\\n",
       "0               ..               ..  6209137624.77181  12416161048.8412   \n",
       "1         19357126         21606992          25654274          28394806   \n",
       "2               ..               ..                ..  397.870876381663   \n",
       "3  2258513974.0968  3922100793.5403  8052073539.38058   12044208085.864   \n",
       "4          3148281          3060173           3011487           2927519   \n",
       "\n",
       "             YR2013            YR2017            YR2020  \n",
       "0   20146404996.223  18753469630.2586  20116137325.8206  \n",
       "1          32269592          36296111          38928341  \n",
       "2  573.372758018691  486.034777839794  475.620362308779  \n",
       "3  12776220507.0162  13019689336.6919  15131866270.5936  \n",
       "4           2895092           2873457           2837849  "
      ]
     },
     "execution_count": 469,
     "metadata": {},
     "output_type": "execute_result"
    }
   ],
   "source": [
    "df_economic1.head()"
   ]
  },
  {
   "cell_type": "code",
   "execution_count": 470,
   "metadata": {},
   "outputs": [
    {
     "data": {
      "text/html": [
       "<div>\n",
       "<style scoped>\n",
       "    .dataframe tbody tr th:only-of-type {\n",
       "        vertical-align: middle;\n",
       "    }\n",
       "\n",
       "    .dataframe tbody tr th {\n",
       "        vertical-align: top;\n",
       "    }\n",
       "\n",
       "    .dataframe thead th {\n",
       "        text-align: right;\n",
       "    }\n",
       "</style>\n",
       "<table border=\"1\" class=\"dataframe\">\n",
       "  <thead>\n",
       "    <tr style=\"text-align: right;\">\n",
       "      <th></th>\n",
       "      <th>Year</th>\n",
       "      <th>RK</th>\n",
       "      <th>Team</th>\n",
       "      <th>Rating</th>\n",
       "      <th>AverageRank</th>\n",
       "      <th>AverageRating</th>\n",
       "      <th>YearRank</th>\n",
       "      <th>YearRating</th>\n",
       "      <th>MatchesTotal</th>\n",
       "      <th>MathcesHome</th>\n",
       "      <th>MatchesAway</th>\n",
       "      <th>MatchesNeutral</th>\n",
       "      <th>MatchesWins</th>\n",
       "      <th>MatchesLosses</th>\n",
       "      <th>MatchesDraws</th>\n",
       "      <th>GoalsFor</th>\n",
       "      <th>GoalsAgainst</th>\n",
       "    </tr>\n",
       "  </thead>\n",
       "  <tbody>\n",
       "    <tr>\n",
       "      <th>0</th>\n",
       "      <td>1989</td>\n",
       "      <td>1</td>\n",
       "      <td>Netherlands</td>\n",
       "      <td>2048</td>\n",
       "      <td>19</td>\n",
       "      <td>1790</td>\n",
       "      <td>0</td>\n",
       "      <td>+1</td>\n",
       "      <td>474</td>\n",
       "      <td>231</td>\n",
       "      <td>205</td>\n",
       "      <td>38</td>\n",
       "      <td>220</td>\n",
       "      <td>162</td>\n",
       "      <td>92</td>\n",
       "      <td>1002</td>\n",
       "      <td>769</td>\n",
       "    </tr>\n",
       "    <tr>\n",
       "      <th>1</th>\n",
       "      <td>1989</td>\n",
       "      <td>2</td>\n",
       "      <td>Brazil</td>\n",
       "      <td>2008</td>\n",
       "      <td>5</td>\n",
       "      <td>1976</td>\n",
       "      <td>0</td>\n",
       "      <td>+12</td>\n",
       "      <td>533</td>\n",
       "      <td>223</td>\n",
       "      <td>174</td>\n",
       "      <td>136</td>\n",
       "      <td>331</td>\n",
       "      <td>97</td>\n",
       "      <td>105</td>\n",
       "      <td>1172</td>\n",
       "      <td>556</td>\n",
       "    </tr>\n",
       "    <tr>\n",
       "      <th>2</th>\n",
       "      <td>1989</td>\n",
       "      <td>3</td>\n",
       "      <td>West Germany</td>\n",
       "      <td>2001</td>\n",
       "      <td>9</td>\n",
       "      <td>1875</td>\n",
       "      <td>+1</td>\n",
       "      <td>+18</td>\n",
       "      <td>565</td>\n",
       "      <td>254</td>\n",
       "      <td>243</td>\n",
       "      <td>68</td>\n",
       "      <td>315</td>\n",
       "      <td>138</td>\n",
       "      <td>112</td>\n",
       "      <td>1287</td>\n",
       "      <td>740</td>\n",
       "    </tr>\n",
       "    <tr>\n",
       "      <th>3</th>\n",
       "      <td>1989</td>\n",
       "      <td>4</td>\n",
       "      <td>Italy</td>\n",
       "      <td>1964</td>\n",
       "      <td>8</td>\n",
       "      <td>1896</td>\n",
       "      <td>+1</td>\n",
       "      <td>−13</td>\n",
       "      <td>467</td>\n",
       "      <td>224</td>\n",
       "      <td>178</td>\n",
       "      <td>65</td>\n",
       "      <td>246</td>\n",
       "      <td>104</td>\n",
       "      <td>117</td>\n",
       "      <td>879</td>\n",
       "      <td>537</td>\n",
       "    </tr>\n",
       "    <tr>\n",
       "      <th>4</th>\n",
       "      <td>1989</td>\n",
       "      <td>5</td>\n",
       "      <td>Sweden</td>\n",
       "      <td>1960</td>\n",
       "      <td>15</td>\n",
       "      <td>1780</td>\n",
       "      <td>+1</td>\n",
       "      <td>+8</td>\n",
       "      <td>661</td>\n",
       "      <td>308</td>\n",
       "      <td>305</td>\n",
       "      <td>48</td>\n",
       "      <td>329</td>\n",
       "      <td>204</td>\n",
       "      <td>128</td>\n",
       "      <td>1497</td>\n",
       "      <td>1013</td>\n",
       "    </tr>\n",
       "  </tbody>\n",
       "</table>\n",
       "</div>"
      ],
      "text/plain": [
       "   Year  RK          Team  Rating  AverageRank  AverageRating YearRank  \\\n",
       "0  1989   1   Netherlands    2048           19           1790        0   \n",
       "1  1989   2        Brazil    2008            5           1976        0   \n",
       "2  1989   3  West Germany    2001            9           1875       +1   \n",
       "3  1989   4         Italy    1964            8           1896       +1   \n",
       "4  1989   5        Sweden    1960           15           1780       +1   \n",
       "\n",
       "  YearRating  MatchesTotal  MathcesHome  MatchesAway  MatchesNeutral  \\\n",
       "0         +1           474          231          205              38   \n",
       "1        +12           533          223          174             136   \n",
       "2        +18           565          254          243              68   \n",
       "3        −13           467          224          178              65   \n",
       "4         +8           661          308          305              48   \n",
       "\n",
       "   MatchesWins  MatchesLosses  MatchesDraws  GoalsFor  GoalsAgainst  \n",
       "0          220            162            92      1002           769  \n",
       "1          331             97           105      1172           556  \n",
       "2          315            138           112      1287           740  \n",
       "3          246            104           117       879           537  \n",
       "4          329            204           128      1497          1013  "
      ]
     },
     "execution_count": 470,
     "metadata": {},
     "output_type": "execute_result"
    }
   ],
   "source": [
    "df_elo1.head()"
   ]
  },
  {
   "cell_type": "code",
   "execution_count": 471,
   "metadata": {},
   "outputs": [
    {
     "data": {
      "text/html": [
       "<div>\n",
       "<style scoped>\n",
       "    .dataframe tbody tr th:only-of-type {\n",
       "        vertical-align: middle;\n",
       "    }\n",
       "\n",
       "    .dataframe tbody tr th {\n",
       "        vertical-align: top;\n",
       "    }\n",
       "\n",
       "    .dataframe thead th {\n",
       "        text-align: right;\n",
       "    }\n",
       "</style>\n",
       "<table border=\"1\" class=\"dataframe\">\n",
       "  <thead>\n",
       "    <tr style=\"text-align: right;\">\n",
       "      <th></th>\n",
       "      <th>WorldCup</th>\n",
       "      <th>RK</th>\n",
       "      <th>Team</th>\n",
       "      <th>PTS</th>\n",
       "    </tr>\n",
       "  </thead>\n",
       "  <tbody>\n",
       "    <tr>\n",
       "      <th>0</th>\n",
       "      <td>1994</td>\n",
       "      <td>1</td>\n",
       "      <td>GermanyGER</td>\n",
       "      <td>60.0</td>\n",
       "    </tr>\n",
       "    <tr>\n",
       "      <th>1</th>\n",
       "      <td>1994</td>\n",
       "      <td>2</td>\n",
       "      <td>NetherlandsNED</td>\n",
       "      <td>59.0</td>\n",
       "    </tr>\n",
       "    <tr>\n",
       "      <th>2</th>\n",
       "      <td>1994</td>\n",
       "      <td>3</td>\n",
       "      <td>BrazilBRA</td>\n",
       "      <td>59.0</td>\n",
       "    </tr>\n",
       "    <tr>\n",
       "      <th>3</th>\n",
       "      <td>1994</td>\n",
       "      <td>4</td>\n",
       "      <td>ItalyITA</td>\n",
       "      <td>57.0</td>\n",
       "    </tr>\n",
       "    <tr>\n",
       "      <th>4</th>\n",
       "      <td>1994</td>\n",
       "      <td>5</td>\n",
       "      <td>SpainESP</td>\n",
       "      <td>56.0</td>\n",
       "    </tr>\n",
       "  </tbody>\n",
       "</table>\n",
       "</div>"
      ],
      "text/plain": [
       "   WorldCup  RK            Team   PTS\n",
       "0      1994   1      GermanyGER  60.0\n",
       "1      1994   2  NetherlandsNED  59.0\n",
       "2      1994   3       BrazilBRA  59.0\n",
       "3      1994   4        ItalyITA  57.0\n",
       "4      1994   5        SpainESP  56.0"
      ]
     },
     "execution_count": 471,
     "metadata": {},
     "output_type": "execute_result"
    }
   ],
   "source": [
    "df_ranking1.head()"
   ]
  },
  {
   "cell_type": "markdown",
   "metadata": {},
   "source": [
    "# 2. Data Cleaning e Conversions"
   ]
  },
  {
   "cell_type": "markdown",
   "metadata": {},
   "source": [
    "## 2.1 Main Dataset - WorldCup Matches"
   ]
  },
  {
   "cell_type": "code",
   "execution_count": 472,
   "metadata": {},
   "outputs": [],
   "source": [
    "df_matches2 = df_matches1[df_matches1['Year'] > 1990].drop(['Unnamed: 0'], axis=1)"
   ]
  },
  {
   "cell_type": "code",
   "execution_count": 473,
   "metadata": {},
   "outputs": [
    {
     "data": {
      "text/plain": [
       "Year                0\n",
       "Datetime            0\n",
       "Home Team Name      0\n",
       "Away Team Name      0\n",
       "Home Team Goals    48\n",
       "Away Team Goals    48\n",
       "dtype: int64"
      ]
     },
     "execution_count": 473,
     "metadata": {},
     "output_type": "execute_result"
    }
   ],
   "source": [
    "df_matches2.isna().sum()"
   ]
  },
  {
   "cell_type": "markdown",
   "metadata": {},
   "source": [
    "Changing data types"
   ]
  },
  {
   "cell_type": "code",
   "execution_count": 474,
   "metadata": {},
   "outputs": [
    {
     "data": {
      "text/plain": [
       "Year                 int64\n",
       "Datetime            object\n",
       "Home Team Name      object\n",
       "Away Team Name      object\n",
       "Home Team Goals    float64\n",
       "Away Team Goals    float64\n",
       "dtype: object"
      ]
     },
     "execution_count": 474,
     "metadata": {},
     "output_type": "execute_result"
    }
   ],
   "source": [
    "df_matches2.dtypes"
   ]
  },
  {
   "cell_type": "code",
   "execution_count": 475,
   "metadata": {},
   "outputs": [],
   "source": [
    "df_matches2['Datetime'] = pd.to_datetime(df_matches2.Datetime)"
   ]
  },
  {
   "cell_type": "code",
   "execution_count": 476,
   "metadata": {},
   "outputs": [
    {
     "data": {
      "text/plain": [
       "Year                        int64\n",
       "Datetime           datetime64[ns]\n",
       "Home Team Name             object\n",
       "Away Team Name             object\n",
       "Home Team Goals           float64\n",
       "Away Team Goals           float64\n",
       "dtype: object"
      ]
     },
     "execution_count": 476,
     "metadata": {},
     "output_type": "execute_result"
    }
   ],
   "source": [
    "df_matches2.dtypes"
   ]
  },
  {
   "cell_type": "code",
   "execution_count": 477,
   "metadata": {},
   "outputs": [],
   "source": [
    "df_synth = pd.read_csv('./datasets/synth_data.csv')"
   ]
  },
  {
   "cell_type": "code",
   "execution_count": 478,
   "metadata": {},
   "outputs": [],
   "source": [
    "df_synth['Datetime'] = pd.to_datetime(df_synth['Datetime'])"
   ]
  },
  {
   "cell_type": "code",
   "execution_count": 479,
   "metadata": {},
   "outputs": [],
   "source": [
    "df_matches2 = pd.concat([df_matches2, df_synth], axis=0, ignore_index=True)"
   ]
  },
  {
   "cell_type": "code",
   "execution_count": 480,
   "metadata": {},
   "outputs": [],
   "source": [
    "df_matches2 = df_matches2.drop('Unnamed: 0', axis=1)"
   ]
  },
  {
   "cell_type": "code",
   "execution_count": 481,
   "metadata": {},
   "outputs": [
    {
     "data": {
      "text/html": [
       "<div>\n",
       "<style scoped>\n",
       "    .dataframe tbody tr th:only-of-type {\n",
       "        vertical-align: middle;\n",
       "    }\n",
       "\n",
       "    .dataframe tbody tr th {\n",
       "        vertical-align: top;\n",
       "    }\n",
       "\n",
       "    .dataframe thead th {\n",
       "        text-align: right;\n",
       "    }\n",
       "</style>\n",
       "<table border=\"1\" class=\"dataframe\">\n",
       "  <thead>\n",
       "    <tr style=\"text-align: right;\">\n",
       "      <th></th>\n",
       "      <th>Year</th>\n",
       "      <th>Datetime</th>\n",
       "      <th>Home Team Name</th>\n",
       "      <th>Away Team Name</th>\n",
       "      <th>Home Team Goals</th>\n",
       "      <th>Away Team Goals</th>\n",
       "    </tr>\n",
       "  </thead>\n",
       "  <tbody>\n",
       "    <tr>\n",
       "      <th>0</th>\n",
       "      <td>1994</td>\n",
       "      <td>1994-06-17 19:30:00</td>\n",
       "      <td>Spain</td>\n",
       "      <td>Korea Republic</td>\n",
       "      <td>2.0</td>\n",
       "      <td>2.0</td>\n",
       "    </tr>\n",
       "    <tr>\n",
       "      <th>1</th>\n",
       "      <td>1994</td>\n",
       "      <td>1994-06-17 15:00:00</td>\n",
       "      <td>Germany</td>\n",
       "      <td>Bolivia</td>\n",
       "      <td>1.0</td>\n",
       "      <td>0.0</td>\n",
       "    </tr>\n",
       "    <tr>\n",
       "      <th>2</th>\n",
       "      <td>1994</td>\n",
       "      <td>1994-06-18 11:30:00</td>\n",
       "      <td>USA</td>\n",
       "      <td>Switzerland</td>\n",
       "      <td>1.0</td>\n",
       "      <td>1.0</td>\n",
       "    </tr>\n",
       "    <tr>\n",
       "      <th>3</th>\n",
       "      <td>1994</td>\n",
       "      <td>1994-06-18 16:00:00</td>\n",
       "      <td>Italy</td>\n",
       "      <td>rn\"&gt;Republic of Ireland</td>\n",
       "      <td>0.0</td>\n",
       "      <td>1.0</td>\n",
       "    </tr>\n",
       "    <tr>\n",
       "      <th>4</th>\n",
       "      <td>1994</td>\n",
       "      <td>1994-06-18 19:30:00</td>\n",
       "      <td>Colombia</td>\n",
       "      <td>Romania</td>\n",
       "      <td>1.0</td>\n",
       "      <td>3.0</td>\n",
       "    </tr>\n",
       "    <tr>\n",
       "      <th>...</th>\n",
       "      <td>...</td>\n",
       "      <td>...</td>\n",
       "      <td>...</td>\n",
       "      <td>...</td>\n",
       "      <td>...</td>\n",
       "      <td>...</td>\n",
       "    </tr>\n",
       "    <tr>\n",
       "      <th>547</th>\n",
       "      <td>2018</td>\n",
       "      <td>2018-10-16 00:00:00</td>\n",
       "      <td>Uzbekistan</td>\n",
       "      <td>Qatar</td>\n",
       "      <td>2.0</td>\n",
       "      <td>0.0</td>\n",
       "    </tr>\n",
       "    <tr>\n",
       "      <th>548</th>\n",
       "      <td>2018</td>\n",
       "      <td>2018-11-14 00:00:00</td>\n",
       "      <td>Switzerland</td>\n",
       "      <td>Qatar</td>\n",
       "      <td>0.0</td>\n",
       "      <td>1.0</td>\n",
       "    </tr>\n",
       "    <tr>\n",
       "      <th>549</th>\n",
       "      <td>2018</td>\n",
       "      <td>2018-11-18 00:00:00</td>\n",
       "      <td>St. Kitts and Nevis</td>\n",
       "      <td>Canada</td>\n",
       "      <td>0.0</td>\n",
       "      <td>1.0</td>\n",
       "    </tr>\n",
       "    <tr>\n",
       "      <th>550</th>\n",
       "      <td>2018</td>\n",
       "      <td>2018-11-19 00:00:00</td>\n",
       "      <td>Iceland</td>\n",
       "      <td>Qatar</td>\n",
       "      <td>2.0</td>\n",
       "      <td>2.0</td>\n",
       "    </tr>\n",
       "    <tr>\n",
       "      <th>551</th>\n",
       "      <td>2018</td>\n",
       "      <td>2018-11-20 00:00:00</td>\n",
       "      <td>Albania</td>\n",
       "      <td>Wales</td>\n",
       "      <td>1.0</td>\n",
       "      <td>0.0</td>\n",
       "    </tr>\n",
       "  </tbody>\n",
       "</table>\n",
       "<p>552 rows × 6 columns</p>\n",
       "</div>"
      ],
      "text/plain": [
       "     Year            Datetime       Home Team Name           Away Team Name  \\\n",
       "0    1994 1994-06-17 19:30:00                Spain           Korea Republic   \n",
       "1    1994 1994-06-17 15:00:00              Germany                  Bolivia   \n",
       "2    1994 1994-06-18 11:30:00                  USA              Switzerland   \n",
       "3    1994 1994-06-18 16:00:00                Italy  rn\">Republic of Ireland   \n",
       "4    1994 1994-06-18 19:30:00             Colombia                  Romania   \n",
       "..    ...                 ...                  ...                      ...   \n",
       "547  2018 2018-10-16 00:00:00           Uzbekistan                    Qatar   \n",
       "548  2018 2018-11-14 00:00:00          Switzerland                    Qatar   \n",
       "549  2018 2018-11-18 00:00:00  St. Kitts and Nevis                   Canada   \n",
       "550  2018 2018-11-19 00:00:00              Iceland                    Qatar   \n",
       "551  2018 2018-11-20 00:00:00              Albania                    Wales   \n",
       "\n",
       "     Home Team Goals  Away Team Goals  \n",
       "0                2.0              2.0  \n",
       "1                1.0              0.0  \n",
       "2                1.0              1.0  \n",
       "3                0.0              1.0  \n",
       "4                1.0              3.0  \n",
       "..               ...              ...  \n",
       "547              2.0              0.0  \n",
       "548              0.0              1.0  \n",
       "549              0.0              1.0  \n",
       "550              2.0              2.0  \n",
       "551              1.0              0.0  \n",
       "\n",
       "[552 rows x 6 columns]"
      ]
     },
     "execution_count": 481,
     "metadata": {},
     "output_type": "execute_result"
    }
   ],
   "source": [
    "df_matches2"
   ]
  },
  {
   "cell_type": "markdown",
   "metadata": {},
   "source": [
    "## 2.2 Economic Variables "
   ]
  },
  {
   "cell_type": "code",
   "execution_count": 482,
   "metadata": {},
   "outputs": [],
   "source": [
    "df_economic2 = df_economic1.copy()"
   ]
  },
  {
   "cell_type": "code",
   "execution_count": 483,
   "metadata": {},
   "outputs": [
    {
     "data": {
      "text/html": [
       "<div>\n",
       "<style scoped>\n",
       "    .dataframe tbody tr th:only-of-type {\n",
       "        vertical-align: middle;\n",
       "    }\n",
       "\n",
       "    .dataframe tbody tr th {\n",
       "        vertical-align: top;\n",
       "    }\n",
       "\n",
       "    .dataframe thead th {\n",
       "        text-align: right;\n",
       "    }\n",
       "</style>\n",
       "<table border=\"1\" class=\"dataframe\">\n",
       "  <thead>\n",
       "    <tr style=\"text-align: right;\">\n",
       "      <th></th>\n",
       "      <th>Unnamed: 0</th>\n",
       "      <th>Country Name</th>\n",
       "      <th>Country Code</th>\n",
       "      <th>Series Name</th>\n",
       "      <th>YR1993</th>\n",
       "      <th>YR1997</th>\n",
       "      <th>YR2001</th>\n",
       "      <th>YR2005</th>\n",
       "      <th>YR2009</th>\n",
       "      <th>YR2013</th>\n",
       "      <th>YR2017</th>\n",
       "      <th>YR2020</th>\n",
       "    </tr>\n",
       "  </thead>\n",
       "  <tbody>\n",
       "    <tr>\n",
       "      <th>0</th>\n",
       "      <td>0</td>\n",
       "      <td>Afghanistan</td>\n",
       "      <td>AFG</td>\n",
       "      <td>GDP</td>\n",
       "      <td>..</td>\n",
       "      <td>..</td>\n",
       "      <td>..</td>\n",
       "      <td>6209137624.77181</td>\n",
       "      <td>12416161048.8412</td>\n",
       "      <td>20146404996.223</td>\n",
       "      <td>18753469630.2586</td>\n",
       "      <td>20116137325.8206</td>\n",
       "    </tr>\n",
       "    <tr>\n",
       "      <th>1</th>\n",
       "      <td>1</td>\n",
       "      <td>Afghanistan</td>\n",
       "      <td>AFG</td>\n",
       "      <td>POP</td>\n",
       "      <td>15816601</td>\n",
       "      <td>19357126</td>\n",
       "      <td>21606992</td>\n",
       "      <td>25654274</td>\n",
       "      <td>28394806</td>\n",
       "      <td>32269592</td>\n",
       "      <td>36296111</td>\n",
       "      <td>38928341</td>\n",
       "    </tr>\n",
       "    <tr>\n",
       "      <th>2</th>\n",
       "      <td>2</td>\n",
       "      <td>Afghanistan</td>\n",
       "      <td>AFG</td>\n",
       "      <td>INC</td>\n",
       "      <td>..</td>\n",
       "      <td>..</td>\n",
       "      <td>..</td>\n",
       "      <td>..</td>\n",
       "      <td>397.870876381663</td>\n",
       "      <td>573.372758018691</td>\n",
       "      <td>486.034777839794</td>\n",
       "      <td>475.620362308779</td>\n",
       "    </tr>\n",
       "    <tr>\n",
       "      <th>3</th>\n",
       "      <td>3</td>\n",
       "      <td>Albania</td>\n",
       "      <td>ALB</td>\n",
       "      <td>GDP</td>\n",
       "      <td>1185315468.46295</td>\n",
       "      <td>2258513974.0968</td>\n",
       "      <td>3922100793.5403</td>\n",
       "      <td>8052073539.38058</td>\n",
       "      <td>12044208085.864</td>\n",
       "      <td>12776220507.0162</td>\n",
       "      <td>13019689336.6919</td>\n",
       "      <td>15131866270.5936</td>\n",
       "    </tr>\n",
       "    <tr>\n",
       "      <th>4</th>\n",
       "      <td>4</td>\n",
       "      <td>Albania</td>\n",
       "      <td>ALB</td>\n",
       "      <td>POP</td>\n",
       "      <td>3227287</td>\n",
       "      <td>3148281</td>\n",
       "      <td>3060173</td>\n",
       "      <td>3011487</td>\n",
       "      <td>2927519</td>\n",
       "      <td>2895092</td>\n",
       "      <td>2873457</td>\n",
       "      <td>2837849</td>\n",
       "    </tr>\n",
       "  </tbody>\n",
       "</table>\n",
       "</div>"
      ],
      "text/plain": [
       "   Unnamed: 0 Country Name Country Code Series Name            YR1993  \\\n",
       "0           0  Afghanistan          AFG         GDP                ..   \n",
       "1           1  Afghanistan          AFG         POP          15816601   \n",
       "2           2  Afghanistan          AFG         INC                ..   \n",
       "3           3      Albania          ALB         GDP  1185315468.46295   \n",
       "4           4      Albania          ALB         POP           3227287   \n",
       "\n",
       "            YR1997           YR2001            YR2005            YR2009  \\\n",
       "0               ..               ..  6209137624.77181  12416161048.8412   \n",
       "1         19357126         21606992          25654274          28394806   \n",
       "2               ..               ..                ..  397.870876381663   \n",
       "3  2258513974.0968  3922100793.5403  8052073539.38058   12044208085.864   \n",
       "4          3148281          3060173           3011487           2927519   \n",
       "\n",
       "             YR2013            YR2017            YR2020  \n",
       "0   20146404996.223  18753469630.2586  20116137325.8206  \n",
       "1          32269592          36296111          38928341  \n",
       "2  573.372758018691  486.034777839794  475.620362308779  \n",
       "3  12776220507.0162  13019689336.6919  15131866270.5936  \n",
       "4           2895092           2873457           2837849  "
      ]
     },
     "execution_count": 483,
     "metadata": {},
     "output_type": "execute_result"
    }
   ],
   "source": [
    "df_economic2.head()"
   ]
  },
  {
   "cell_type": "markdown",
   "metadata": {},
   "source": [
    "Replacing '..' by nan"
   ]
  },
  {
   "cell_type": "code",
   "execution_count": 484,
   "metadata": {},
   "outputs": [],
   "source": [
    "# Filling '..' as np.nan\n",
    "df_economic2[df_economic2 == '..'] = np.nan"
   ]
  },
  {
   "cell_type": "markdown",
   "metadata": {},
   "source": [
    "Chaning types"
   ]
  },
  {
   "cell_type": "code",
   "execution_count": 485,
   "metadata": {},
   "outputs": [
    {
     "data": {
      "text/plain": [
       "Unnamed: 0       int64\n",
       "Country Name    object\n",
       "Country Code    object\n",
       "Series Name     object\n",
       "YR1993          object\n",
       "YR1997          object\n",
       "YR2001          object\n",
       "YR2005          object\n",
       "YR2009          object\n",
       "YR2013          object\n",
       "YR2017          object\n",
       "YR2020          object\n",
       "dtype: object"
      ]
     },
     "execution_count": 485,
     "metadata": {},
     "output_type": "execute_result"
    }
   ],
   "source": [
    "df_economic2.dtypes"
   ]
  },
  {
   "cell_type": "code",
   "execution_count": 486,
   "metadata": {},
   "outputs": [],
   "source": [
    "df_economic2.YR1993 = df_economic2.YR1993.astype('float')\n",
    "df_economic2.YR1997 = df_economic2.YR1997.astype('float')\n",
    "df_economic2.YR2001 = df_economic2.YR2001.astype('float')\n",
    "df_economic2.YR2005 = df_economic2.YR2005.astype('float')\n",
    "df_economic2.YR2009 = df_economic2.YR2009.astype('float')\n",
    "df_economic2.YR2013 = df_economic2.YR2013.astype('float')\n",
    "df_economic2.YR2017 = df_economic2.YR2017.astype('float')\n",
    "df_economic2.YR2020 = df_economic2.YR2020.astype('float')\n"
   ]
  },
  {
   "cell_type": "code",
   "execution_count": 487,
   "metadata": {},
   "outputs": [
    {
     "data": {
      "text/plain": [
       "Unnamed: 0        int64\n",
       "Country Name     object\n",
       "Country Code     object\n",
       "Series Name      object\n",
       "YR1993          float64\n",
       "YR1997          float64\n",
       "YR2001          float64\n",
       "YR2005          float64\n",
       "YR2009          float64\n",
       "YR2013          float64\n",
       "YR2017          float64\n",
       "YR2020          float64\n",
       "dtype: object"
      ]
     },
     "execution_count": 487,
     "metadata": {},
     "output_type": "execute_result"
    }
   ],
   "source": [
    "df_economic2.dtypes"
   ]
  },
  {
   "cell_type": "code",
   "execution_count": 488,
   "metadata": {},
   "outputs": [],
   "source": [
    "# columns were renamed to match with the respective worldcup\n",
    "# 2021 were not used due missing values\n",
    "\n",
    "df_economic2.columns = ['Unnamed: 0',\n",
    "                        'Country Name',\n",
    "                        'Country Code',\n",
    "                        'Series Name',\n",
    "                        'YR1994',\n",
    "                        'YR1998',\n",
    "                        'YR2002',\n",
    "                        'YR2006',\n",
    "                        'YR2010',\n",
    "                        'YR2014',\n",
    "                        'YR2018',\n",
    "                        'YR2022']"
   ]
  },
  {
   "cell_type": "markdown",
   "metadata": {},
   "source": [
    "## 2.3 Elo Rating"
   ]
  },
  {
   "cell_type": "code",
   "execution_count": 489,
   "metadata": {},
   "outputs": [],
   "source": [
    "df_elo2 = df_elo1.copy()"
   ]
  },
  {
   "cell_type": "code",
   "execution_count": 490,
   "metadata": {},
   "outputs": [
    {
     "data": {
      "text/html": [
       "<div>\n",
       "<style scoped>\n",
       "    .dataframe tbody tr th:only-of-type {\n",
       "        vertical-align: middle;\n",
       "    }\n",
       "\n",
       "    .dataframe tbody tr th {\n",
       "        vertical-align: top;\n",
       "    }\n",
       "\n",
       "    .dataframe thead th {\n",
       "        text-align: right;\n",
       "    }\n",
       "</style>\n",
       "<table border=\"1\" class=\"dataframe\">\n",
       "  <thead>\n",
       "    <tr style=\"text-align: right;\">\n",
       "      <th></th>\n",
       "      <th>Year</th>\n",
       "      <th>RK</th>\n",
       "      <th>Team</th>\n",
       "      <th>Rating</th>\n",
       "      <th>AverageRank</th>\n",
       "      <th>AverageRating</th>\n",
       "      <th>YearRank</th>\n",
       "      <th>YearRating</th>\n",
       "      <th>MatchesTotal</th>\n",
       "      <th>MathcesHome</th>\n",
       "      <th>MatchesAway</th>\n",
       "      <th>MatchesNeutral</th>\n",
       "      <th>MatchesWins</th>\n",
       "      <th>MatchesLosses</th>\n",
       "      <th>MatchesDraws</th>\n",
       "      <th>GoalsFor</th>\n",
       "      <th>GoalsAgainst</th>\n",
       "    </tr>\n",
       "  </thead>\n",
       "  <tbody>\n",
       "    <tr>\n",
       "      <th>0</th>\n",
       "      <td>1989</td>\n",
       "      <td>1</td>\n",
       "      <td>Netherlands</td>\n",
       "      <td>2048</td>\n",
       "      <td>19</td>\n",
       "      <td>1790</td>\n",
       "      <td>0</td>\n",
       "      <td>+1</td>\n",
       "      <td>474</td>\n",
       "      <td>231</td>\n",
       "      <td>205</td>\n",
       "      <td>38</td>\n",
       "      <td>220</td>\n",
       "      <td>162</td>\n",
       "      <td>92</td>\n",
       "      <td>1002</td>\n",
       "      <td>769</td>\n",
       "    </tr>\n",
       "    <tr>\n",
       "      <th>1</th>\n",
       "      <td>1989</td>\n",
       "      <td>2</td>\n",
       "      <td>Brazil</td>\n",
       "      <td>2008</td>\n",
       "      <td>5</td>\n",
       "      <td>1976</td>\n",
       "      <td>0</td>\n",
       "      <td>+12</td>\n",
       "      <td>533</td>\n",
       "      <td>223</td>\n",
       "      <td>174</td>\n",
       "      <td>136</td>\n",
       "      <td>331</td>\n",
       "      <td>97</td>\n",
       "      <td>105</td>\n",
       "      <td>1172</td>\n",
       "      <td>556</td>\n",
       "    </tr>\n",
       "    <tr>\n",
       "      <th>2</th>\n",
       "      <td>1989</td>\n",
       "      <td>3</td>\n",
       "      <td>West Germany</td>\n",
       "      <td>2001</td>\n",
       "      <td>9</td>\n",
       "      <td>1875</td>\n",
       "      <td>+1</td>\n",
       "      <td>+18</td>\n",
       "      <td>565</td>\n",
       "      <td>254</td>\n",
       "      <td>243</td>\n",
       "      <td>68</td>\n",
       "      <td>315</td>\n",
       "      <td>138</td>\n",
       "      <td>112</td>\n",
       "      <td>1287</td>\n",
       "      <td>740</td>\n",
       "    </tr>\n",
       "    <tr>\n",
       "      <th>3</th>\n",
       "      <td>1989</td>\n",
       "      <td>4</td>\n",
       "      <td>Italy</td>\n",
       "      <td>1964</td>\n",
       "      <td>8</td>\n",
       "      <td>1896</td>\n",
       "      <td>+1</td>\n",
       "      <td>−13</td>\n",
       "      <td>467</td>\n",
       "      <td>224</td>\n",
       "      <td>178</td>\n",
       "      <td>65</td>\n",
       "      <td>246</td>\n",
       "      <td>104</td>\n",
       "      <td>117</td>\n",
       "      <td>879</td>\n",
       "      <td>537</td>\n",
       "    </tr>\n",
       "    <tr>\n",
       "      <th>4</th>\n",
       "      <td>1989</td>\n",
       "      <td>5</td>\n",
       "      <td>Sweden</td>\n",
       "      <td>1960</td>\n",
       "      <td>15</td>\n",
       "      <td>1780</td>\n",
       "      <td>+1</td>\n",
       "      <td>+8</td>\n",
       "      <td>661</td>\n",
       "      <td>308</td>\n",
       "      <td>305</td>\n",
       "      <td>48</td>\n",
       "      <td>329</td>\n",
       "      <td>204</td>\n",
       "      <td>128</td>\n",
       "      <td>1497</td>\n",
       "      <td>1013</td>\n",
       "    </tr>\n",
       "  </tbody>\n",
       "</table>\n",
       "</div>"
      ],
      "text/plain": [
       "   Year  RK          Team  Rating  AverageRank  AverageRating YearRank  \\\n",
       "0  1989   1   Netherlands    2048           19           1790        0   \n",
       "1  1989   2        Brazil    2008            5           1976        0   \n",
       "2  1989   3  West Germany    2001            9           1875       +1   \n",
       "3  1989   4         Italy    1964            8           1896       +1   \n",
       "4  1989   5        Sweden    1960           15           1780       +1   \n",
       "\n",
       "  YearRating  MatchesTotal  MathcesHome  MatchesAway  MatchesNeutral  \\\n",
       "0         +1           474          231          205              38   \n",
       "1        +12           533          223          174             136   \n",
       "2        +18           565          254          243              68   \n",
       "3        −13           467          224          178              65   \n",
       "4         +8           661          308          305              48   \n",
       "\n",
       "   MatchesWins  MatchesLosses  MatchesDraws  GoalsFor  GoalsAgainst  \n",
       "0          220            162            92      1002           769  \n",
       "1          331             97           105      1172           556  \n",
       "2          315            138           112      1287           740  \n",
       "3          246            104           117       879           537  \n",
       "4          329            204           128      1497          1013  "
      ]
     },
     "execution_count": 490,
     "metadata": {},
     "output_type": "execute_result"
    }
   ],
   "source": [
    "df_elo2.head()"
   ]
  },
  {
   "cell_type": "markdown",
   "metadata": {},
   "source": [
    "Some DataCleaning"
   ]
  },
  {
   "cell_type": "code",
   "execution_count": 491,
   "metadata": {},
   "outputs": [],
   "source": [
    "def adjust_rank(row):\n",
    "    if row['YearRank'] == '−':\n",
    "        row['YearRank'] = np.nan\n",
    "    else:\n",
    "        row['YearRank'] = row['YearRank'].replace('−','-')\n",
    "        row['YearRank'] = row['YearRank'].replace('+','')\n",
    "\n",
    "    return row['YearRank']\n",
    "\n",
    "def adjust_rating(row):\n",
    "    if row['YearRating'] == '−':\n",
    "        row['YearRating'] = np.nan\n",
    "    else:\n",
    "        row['YearRating'] = row['YearRating'].replace('−','-')\n",
    "        row['YearRating'] = row['YearRating'].replace('+','')\n",
    "\n",
    "    return row['YearRating']\n",
    "\n",
    "df_elo2['YearRank'] = df_elo2.apply(adjust_rank, axis=1)\n",
    "df_elo2['YearRating'] = df_elo2.apply(adjust_rating, axis=1)\n"
   ]
  },
  {
   "cell_type": "code",
   "execution_count": 492,
   "metadata": {},
   "outputs": [
    {
     "data": {
      "text/plain": [
       "Year               int64\n",
       "RK                 int64\n",
       "Team              object\n",
       "Rating             int64\n",
       "AverageRank        int64\n",
       "AverageRating      int64\n",
       "YearRank          object\n",
       "YearRating        object\n",
       "MatchesTotal       int64\n",
       "MathcesHome        int64\n",
       "MatchesAway        int64\n",
       "MatchesNeutral     int64\n",
       "MatchesWins        int64\n",
       "MatchesLosses      int64\n",
       "MatchesDraws       int64\n",
       "GoalsFor           int64\n",
       "GoalsAgainst       int64\n",
       "dtype: object"
      ]
     },
     "execution_count": 492,
     "metadata": {},
     "output_type": "execute_result"
    }
   ],
   "source": [
    "df_elo2.dtypes"
   ]
  },
  {
   "cell_type": "code",
   "execution_count": 493,
   "metadata": {},
   "outputs": [],
   "source": [
    "df_elo2.YearRank = df_elo2.YearRank.astype('Int64')\n",
    "df_elo2.YearRating = df_elo2.YearRating.astype('Int64')"
   ]
  },
  {
   "cell_type": "code",
   "execution_count": 494,
   "metadata": {},
   "outputs": [
    {
     "data": {
      "text/plain": [
       "Year               int64\n",
       "RK                 int64\n",
       "Team              object\n",
       "Rating             int64\n",
       "AverageRank        int64\n",
       "AverageRating      int64\n",
       "YearRank           Int64\n",
       "YearRating         Int64\n",
       "MatchesTotal       int64\n",
       "MathcesHome        int64\n",
       "MatchesAway        int64\n",
       "MatchesNeutral     int64\n",
       "MatchesWins        int64\n",
       "MatchesLosses      int64\n",
       "MatchesDraws       int64\n",
       "GoalsFor           int64\n",
       "GoalsAgainst       int64\n",
       "dtype: object"
      ]
     },
     "execution_count": 494,
     "metadata": {},
     "output_type": "execute_result"
    }
   ],
   "source": [
    "df_elo2.dtypes"
   ]
  },
  {
   "cell_type": "markdown",
   "metadata": {},
   "source": [
    "## 2.5 FIFA Ranking"
   ]
  },
  {
   "cell_type": "code",
   "execution_count": 495,
   "metadata": {},
   "outputs": [],
   "source": [
    "df_ranking2 = df_ranking1.copy()"
   ]
  },
  {
   "cell_type": "code",
   "execution_count": 496,
   "metadata": {},
   "outputs": [
    {
     "data": {
      "text/html": [
       "<div>\n",
       "<style scoped>\n",
       "    .dataframe tbody tr th:only-of-type {\n",
       "        vertical-align: middle;\n",
       "    }\n",
       "\n",
       "    .dataframe tbody tr th {\n",
       "        vertical-align: top;\n",
       "    }\n",
       "\n",
       "    .dataframe thead th {\n",
       "        text-align: right;\n",
       "    }\n",
       "</style>\n",
       "<table border=\"1\" class=\"dataframe\">\n",
       "  <thead>\n",
       "    <tr style=\"text-align: right;\">\n",
       "      <th></th>\n",
       "      <th>WorldCup</th>\n",
       "      <th>RK</th>\n",
       "      <th>Team</th>\n",
       "      <th>PTS</th>\n",
       "    </tr>\n",
       "  </thead>\n",
       "  <tbody>\n",
       "    <tr>\n",
       "      <th>0</th>\n",
       "      <td>1994</td>\n",
       "      <td>1</td>\n",
       "      <td>GermanyGER</td>\n",
       "      <td>60.0</td>\n",
       "    </tr>\n",
       "    <tr>\n",
       "      <th>1</th>\n",
       "      <td>1994</td>\n",
       "      <td>2</td>\n",
       "      <td>NetherlandsNED</td>\n",
       "      <td>59.0</td>\n",
       "    </tr>\n",
       "    <tr>\n",
       "      <th>2</th>\n",
       "      <td>1994</td>\n",
       "      <td>3</td>\n",
       "      <td>BrazilBRA</td>\n",
       "      <td>59.0</td>\n",
       "    </tr>\n",
       "    <tr>\n",
       "      <th>3</th>\n",
       "      <td>1994</td>\n",
       "      <td>4</td>\n",
       "      <td>ItalyITA</td>\n",
       "      <td>57.0</td>\n",
       "    </tr>\n",
       "    <tr>\n",
       "      <th>4</th>\n",
       "      <td>1994</td>\n",
       "      <td>5</td>\n",
       "      <td>SpainESP</td>\n",
       "      <td>56.0</td>\n",
       "    </tr>\n",
       "  </tbody>\n",
       "</table>\n",
       "</div>"
      ],
      "text/plain": [
       "   WorldCup  RK            Team   PTS\n",
       "0      1994   1      GermanyGER  60.0\n",
       "1      1994   2  NetherlandsNED  59.0\n",
       "2      1994   3       BrazilBRA  59.0\n",
       "3      1994   4        ItalyITA  57.0\n",
       "4      1994   5        SpainESP  56.0"
      ]
     },
     "execution_count": 496,
     "metadata": {},
     "output_type": "execute_result"
    }
   ],
   "source": [
    "df_ranking2.head()"
   ]
  },
  {
   "cell_type": "code",
   "execution_count": 497,
   "metadata": {},
   "outputs": [],
   "source": [
    "def filter_name(row):\n",
    "    # remove the initials at the end of team name\n",
    "    return row['Team'][0:-3]\n",
    "\n",
    "df_ranking2['Team'] = df_ranking2.apply(filter_name, axis=1)"
   ]
  },
  {
   "cell_type": "code",
   "execution_count": 498,
   "metadata": {},
   "outputs": [
    {
     "data": {
      "text/html": [
       "<div>\n",
       "<style scoped>\n",
       "    .dataframe tbody tr th:only-of-type {\n",
       "        vertical-align: middle;\n",
       "    }\n",
       "\n",
       "    .dataframe tbody tr th {\n",
       "        vertical-align: top;\n",
       "    }\n",
       "\n",
       "    .dataframe thead th {\n",
       "        text-align: right;\n",
       "    }\n",
       "</style>\n",
       "<table border=\"1\" class=\"dataframe\">\n",
       "  <thead>\n",
       "    <tr style=\"text-align: right;\">\n",
       "      <th></th>\n",
       "      <th>WorldCup</th>\n",
       "      <th>RK</th>\n",
       "      <th>Team</th>\n",
       "      <th>PTS</th>\n",
       "    </tr>\n",
       "  </thead>\n",
       "  <tbody>\n",
       "    <tr>\n",
       "      <th>0</th>\n",
       "      <td>1994</td>\n",
       "      <td>1</td>\n",
       "      <td>Germany</td>\n",
       "      <td>60.00</td>\n",
       "    </tr>\n",
       "    <tr>\n",
       "      <th>1</th>\n",
       "      <td>1994</td>\n",
       "      <td>2</td>\n",
       "      <td>Netherlands</td>\n",
       "      <td>59.00</td>\n",
       "    </tr>\n",
       "    <tr>\n",
       "      <th>2</th>\n",
       "      <td>1994</td>\n",
       "      <td>3</td>\n",
       "      <td>Brazil</td>\n",
       "      <td>59.00</td>\n",
       "    </tr>\n",
       "    <tr>\n",
       "      <th>3</th>\n",
       "      <td>1994</td>\n",
       "      <td>4</td>\n",
       "      <td>Italy</td>\n",
       "      <td>57.00</td>\n",
       "    </tr>\n",
       "    <tr>\n",
       "      <th>4</th>\n",
       "      <td>1994</td>\n",
       "      <td>5</td>\n",
       "      <td>Spain</td>\n",
       "      <td>56.00</td>\n",
       "    </tr>\n",
       "    <tr>\n",
       "      <th>...</th>\n",
       "      <td>...</td>\n",
       "      <td>...</td>\n",
       "      <td>...</td>\n",
       "      <td>...</td>\n",
       "    </tr>\n",
       "    <tr>\n",
       "      <th>1570</th>\n",
       "      <td>2022</td>\n",
       "      <td>207</td>\n",
       "      <td>Sri Lanka</td>\n",
       "      <td>825.25</td>\n",
       "    </tr>\n",
       "    <tr>\n",
       "      <th>1571</th>\n",
       "      <td>2022</td>\n",
       "      <td>208</td>\n",
       "      <td>US Virgin Islands</td>\n",
       "      <td>823.97</td>\n",
       "    </tr>\n",
       "    <tr>\n",
       "      <th>1572</th>\n",
       "      <td>2022</td>\n",
       "      <td>209</td>\n",
       "      <td>British Virgin Islands</td>\n",
       "      <td>809.32</td>\n",
       "    </tr>\n",
       "    <tr>\n",
       "      <th>1573</th>\n",
       "      <td>2022</td>\n",
       "      <td>210</td>\n",
       "      <td>Anguilla</td>\n",
       "      <td>790.74</td>\n",
       "    </tr>\n",
       "    <tr>\n",
       "      <th>1574</th>\n",
       "      <td>2022</td>\n",
       "      <td>211</td>\n",
       "      <td>San Marino</td>\n",
       "      <td>762.22</td>\n",
       "    </tr>\n",
       "  </tbody>\n",
       "</table>\n",
       "<p>1575 rows × 4 columns</p>\n",
       "</div>"
      ],
      "text/plain": [
       "      WorldCup   RK                    Team     PTS\n",
       "0         1994    1                 Germany   60.00\n",
       "1         1994    2             Netherlands   59.00\n",
       "2         1994    3                  Brazil   59.00\n",
       "3         1994    4                   Italy   57.00\n",
       "4         1994    5                   Spain   56.00\n",
       "...        ...  ...                     ...     ...\n",
       "1570      2022  207               Sri Lanka  825.25\n",
       "1571      2022  208       US Virgin Islands  823.97\n",
       "1572      2022  209  British Virgin Islands  809.32\n",
       "1573      2022  210                Anguilla  790.74\n",
       "1574      2022  211              San Marino  762.22\n",
       "\n",
       "[1575 rows x 4 columns]"
      ]
     },
     "execution_count": 498,
     "metadata": {},
     "output_type": "execute_result"
    }
   ],
   "source": [
    "df_ranking2"
   ]
  },
  {
   "cell_type": "markdown",
   "metadata": {},
   "source": [
    "## 2.6 Merging DataFrames"
   ]
  },
  {
   "cell_type": "code",
   "execution_count": 499,
   "metadata": {},
   "outputs": [],
   "source": [
    "df_matches21 = df_matches2.copy()\n",
    "df_economic21 = df_economic2.copy()\n",
    "df_elo21 = df_elo2.copy()"
   ]
  },
  {
   "cell_type": "markdown",
   "metadata": {},
   "source": [
    "### 2.6.1 Merging DataFrames - Matches and Economic"
   ]
  },
  {
   "cell_type": "code",
   "execution_count": 500,
   "metadata": {},
   "outputs": [],
   "source": [
    "list_economic_countries = df_economic21['Country Name'].unique().tolist()\n",
    "list_matches_countries_home = df_matches21['Home Team Name'].unique().tolist()\n",
    "list_matches_countries_away = df_matches21['Away Team Name'].unique().tolist()"
   ]
  },
  {
   "cell_type": "code",
   "execution_count": 501,
   "metadata": {},
   "outputs": [],
   "source": [
    "# Checking if home and away teams are the same\n",
    "missing_home = []\n",
    "missing_away = []\n",
    "\n",
    "def check_missing(home_list, df_check, column_name='Away Team Name'):\n",
    "    missing_list = []\n",
    "    for team in home_list:\n",
    "        if not ((team == df_check[column_name]).unique()).any():\n",
    "            missing_list.append(team)\n",
    "    \n",
    "    return missing_list\n",
    "\n",
    "missing_in_away = check_missing(list_matches_countries_home, df_matches21, column_name='Away Team Name')\n",
    "missing_in_home = check_missing(list_matches_countries_away, df_matches21, column_name='Home Team Name')\n",
    "\n",
    "    "
   ]
  },
  {
   "cell_type": "code",
   "execution_count": 502,
   "metadata": {},
   "outputs": [
    {
     "name": "stdout",
     "output_type": "stream",
     "text": [
      "Missing Home Team = ['Austria', 'Kuwait', 'Jordan', 'Indonesia', 'Lebanon', 'Bosnia and Herzegovina', 'Cyprus', 'Estonia', 'Syria', 'Palestine', 'Dominica', 'Kyrgyz Republic']\n",
      "Missing Away = ['Moldova', 'North Macedonia', 'Andorra', 'Yemen', 'Iraq', 'US Virgin Islands', 'St. Kitts and Nevis', 'Albania']\n"
     ]
    }
   ],
   "source": [
    "print(f'Missing Home Team = {missing_in_home}')\n",
    "print(f'Missing Away = {missing_in_away}')\n"
   ]
  },
  {
   "cell_type": "code",
   "execution_count": 503,
   "metadata": {},
   "outputs": [],
   "source": [
    "list_matches_countries_home = list_matches_countries_home + missing_in_home\n",
    "list_matches_countries_away = list_matches_countries_away + missing_in_away"
   ]
  },
  {
   "cell_type": "code",
   "execution_count": 504,
   "metadata": {},
   "outputs": [
    {
     "data": {
      "text/plain": [
       "True"
      ]
     },
     "execution_count": 504,
     "metadata": {},
     "output_type": "execute_result"
    }
   ],
   "source": [
    "# checking if are the same now\n",
    "list_matches_countries_away.sort()\n",
    "list_matches_countries_home.sort()\n",
    "\n",
    "list_matches_countries_away == list_matches_countries_home\n"
   ]
  },
  {
   "cell_type": "code",
   "execution_count": 505,
   "metadata": {},
   "outputs": [],
   "source": [
    "# Check missing teams in economic variables\n",
    "list_countries_economic = df_economic21['Country Name'].unique().tolist()\n",
    "missing_list = check_missing(list_matches_countries_home, df_economic21, column_name='Country Name')\n"
   ]
  },
  {
   "cell_type": "code",
   "execution_count": 506,
   "metadata": {},
   "outputs": [
    {
     "data": {
      "text/plain": [
       "['China PR',\n",
       " 'Czech Republic',\n",
       " \"C�te d'Ivoire\",\n",
       " 'Egypt',\n",
       " 'England',\n",
       " 'IR Iran',\n",
       " 'Iran',\n",
       " 'Korea DPR',\n",
       " 'Korea Republic',\n",
       " 'Palestine',\n",
       " 'Republic of Ireland',\n",
       " 'Russia',\n",
       " 'Scotland',\n",
       " 'Slovakia',\n",
       " 'Syria',\n",
       " 'Turkey',\n",
       " 'US Virgin Islands',\n",
       " 'USA',\n",
       " 'Wales',\n",
       " 'Yemen',\n",
       " 'Yugoslavia',\n",
       " 'rn\">Bosnia and Herzegovina',\n",
       " 'rn\">Republic of Ireland',\n",
       " 'rn\">Serbia and Montenegro',\n",
       " 'rn\">Trinidad and Tobago']"
      ]
     },
     "execution_count": 506,
     "metadata": {},
     "output_type": "execute_result"
    }
   ],
   "source": [
    "missing_list"
   ]
  },
  {
   "cell_type": "code",
   "execution_count": 507,
   "metadata": {},
   "outputs": [],
   "source": [
    "# took from missing_list\n",
    "correct_names = {'China PR': 'China',\n",
    "                 'Czech Republic': 'Czechia',\n",
    "                 \"C�te d'Ivoire\": 'Cote d\\'Ivoire',\n",
    "                 \"Côte d'Ivoire\": 'Cote d\\'Ivoire',\n",
    "                 'Republic of Ireland': 'Ireland',\n",
    "                 'Egypt': 'Egypt, Arab Rep.',\n",
    "                 #'England': 'United Kingdom',-  Not found in economic dataset - Will be filled as united kingdom\n",
    "                 'IR Iran': 'Iran, Islamic Rep.',\n",
    "                 'Iran': 'Iran, Islamic Rep.',\n",
    "                 'Korea DPR': 'Korea, Dem. People\\'s Rep.',\n",
    "                 'Korea Republic': 'Korea, Rep.',\n",
    "                 'Russia': 'Russian Federation',\n",
    "                 'Venezuela':'Venezuela, RB',\n",
    "                 'US Virgin Islands': 'Virgin Islands (U.S.)',\n",
    "                 # 'Scotland': 'United Kingdom' - Not found in economic dataset - Will be filled as united kingdom\n",
    "                 'Slovakia': 'Slovak Republic',\n",
    "                 'Turkey': 'Turkiye',\n",
    "                 'USA': 'United States',\n",
    "                 #'Yugoslavia' - Not found in economic dataset\n",
    "                 'rn\">Bosnia and Herzegovina': 'Bosnia and Herzegovina',\n",
    "                 'rn\">Republic of Ireland': 'Ireland',\n",
    "                 'rn\">Serbia and Montenegro': 'Serbia',\n",
    "                 'rn\">Trinidad and Tobago': 'Trinidad and Tobago'}"
   ]
  },
  {
   "cell_type": "code",
   "execution_count": 508,
   "metadata": {},
   "outputs": [],
   "source": [
    "df_matches21['Home Team Name'] = df_matches21['Home Team Name'].map(correct_names).fillna(df_matches21['Home Team Name'])\n",
    "df_matches21['Away Team Name'] = df_matches21['Away Team Name'].map(correct_names).fillna(df_matches21['Away Team Name'])"
   ]
  },
  {
   "cell_type": "code",
   "execution_count": 509,
   "metadata": {},
   "outputs": [],
   "source": [
    "list_matches_countries_home = df_matches21['Home Team Name'].unique().tolist()"
   ]
  },
  {
   "cell_type": "code",
   "execution_count": 510,
   "metadata": {},
   "outputs": [],
   "source": [
    "# Check missing teams in economic variables again\n",
    "missing_list_home = check_missing(list_matches_countries_home, df_matches21, column_name='Home Team Name')\n",
    "missing_list_away = check_missing(list_matches_countries_home, df_matches21, column_name='Away Team Name')\n"
   ]
  },
  {
   "cell_type": "code",
   "execution_count": 511,
   "metadata": {},
   "outputs": [
    {
     "name": "stdout",
     "output_type": "stream",
     "text": [
      "Missing Home Team = []\n",
      "Missing Away = ['Moldova', 'North Macedonia', 'Andorra', 'Yemen', 'Iraq', 'Virgin Islands (U.S.)', 'St. Kitts and Nevis', 'Albania']\n"
     ]
    }
   ],
   "source": [
    "print(f'Missing Home Team = {missing_list_home}')\n",
    "print(f'Missing Away = {missing_list_away}')"
   ]
  },
  {
   "cell_type": "code",
   "execution_count": 512,
   "metadata": {},
   "outputs": [],
   "source": [
    "def add_economic_attributes(df_economic21, df_matches21):\n",
    "    for row in df_matches21.index:\n",
    "        year_match = df_matches21.loc[row, 'Year']\n",
    "        if (df_economic21['Country Name'] == df_matches21.loc[row, 'Home Team Name']).any():\n",
    "            df_matches21.loc[row, 'Home_GDP'] = df_economic21[(df_economic21['Country Name'] == df_matches21.loc[row, 'Home Team Name']) & (df_economic21['Series Name'] == 'GDP')][f'YR{year_match}'].values[0]\n",
    "            df_matches21.loc[row, 'Home_POP'] = df_economic21[(df_economic21['Country Name'] == df_matches21.loc[row, 'Home Team Name']) & (df_economic21['Series Name'] == 'POP')][f'YR{year_match}'].values[0]\n",
    "            df_matches21.loc[row, 'Home_INC'] = df_economic21[(df_economic21['Country Name'] == df_matches21.loc[row, 'Home Team Name']) & (df_economic21['Series Name'] == 'INC')][f'YR{year_match}'].values[0]\n",
    "        \n",
    "        elif (df_matches21.loc[row, 'Home Team Name'] == 'England'): # or df_matches21.loc[row, 'Home Team Name'] == 'Scotland' or df_matches21.loc[row, 'Home Team Name'] == 'Wales'):\n",
    "            df_matches21.loc[row, 'Home_GDP'] = df_economic21[(df_economic21['Country Name'] == 'United Kingdom') & (df_economic21['Series Name'] == 'GDP')][f'YR{year_match}'].values[0]\n",
    "            df_matches21.loc[row, 'Home_POP'] = df_economic21[(df_economic21['Country Name'] == 'United Kingdom') & (df_economic21['Series Name'] == 'POP')][f'YR{year_match}'].values[0]\n",
    "            df_matches21.loc[row, 'Home_INC'] = df_economic21[(df_economic21['Country Name'] == 'United Kingdom') & (df_economic21['Series Name'] == 'INC')][f'YR{year_match}'].values[0]\n",
    "\n",
    "        if (df_economic21['Country Name'] == df_matches21.loc[row, 'Away Team Name']).any():\n",
    "            df_matches21.loc[row, 'Away_GDP'] = df_economic21[(df_economic21['Country Name'] == df_matches21.loc[row, 'Away Team Name']) & (df_economic21['Series Name'] == 'GDP')][f'YR{year_match}'].values[0]\n",
    "            df_matches21.loc[row, 'Away_POP'] = df_economic21[(df_economic21['Country Name'] == df_matches21.loc[row, 'Away Team Name']) & (df_economic21['Series Name'] == 'POP')][f'YR{year_match}'].values[0]\n",
    "            df_matches21.loc[row, 'Away_INC'] = df_economic21[(df_economic21['Country Name'] == df_matches21.loc[row, 'Away Team Name']) & (df_economic21['Series Name'] == 'INC')][f'YR{year_match}'].values[0]\n",
    "        \n",
    "        elif (df_matches21.loc[row, 'Away Team Name'] == 'England'): # or df_matches21.loc[row, 'Away Team Name'] == 'Scotland' or df_matches21.loc[row, 'Home Team Name'] == 'Wales'):\n",
    "            df_matches21.loc[row, 'Away_GDP'] = df_economic21[(df_economic21['Country Name'] == 'United Kingdom') & (df_economic21['Series Name'] == 'GDP')][f'YR{year_match}'].values[0]\n",
    "            df_matches21.loc[row, 'Away_POP'] = df_economic21[(df_economic21['Country Name'] == 'United Kingdom') & (df_economic21['Series Name'] == 'POP')][f'YR{year_match}'].values[0]\n",
    "            df_matches21.loc[row, 'Away_INC'] = df_economic21[(df_economic21['Country Name'] == 'United Kingdom') & (df_economic21['Series Name'] == 'INC')][f'YR{year_match}'].values[0]\n",
    "\n",
    "    return df_matches21"
   ]
  },
  {
   "cell_type": "code",
   "execution_count": 513,
   "metadata": {},
   "outputs": [],
   "source": [
    "df_match_eco = add_economic_attributes(df_economic21, df_matches21)"
   ]
  },
  {
   "cell_type": "code",
   "execution_count": 514,
   "metadata": {},
   "outputs": [
    {
     "data": {
      "text/plain": [
       "Year                0\n",
       "Datetime            0\n",
       "Home Team Name      0\n",
       "Away Team Name      0\n",
       "Home Team Goals    48\n",
       "Away Team Goals    48\n",
       "Home_GDP           14\n",
       "Home_POP           13\n",
       "Home_INC           22\n",
       "Away_GDP           18\n",
       "Away_POP           15\n",
       "Away_INC           26\n",
       "dtype: int64"
      ]
     },
     "execution_count": 514,
     "metadata": {},
     "output_type": "execute_result"
    }
   ],
   "source": [
    "df_match_eco.isna().sum()"
   ]
  },
  {
   "cell_type": "markdown",
   "metadata": {},
   "source": [
    "### 2.6.2 Merging DataFrames - Matches, Economic and Elo Rating"
   ]
  },
  {
   "cell_type": "code",
   "execution_count": 515,
   "metadata": {},
   "outputs": [],
   "source": [
    "missing_list = check_missing(list_matches_countries_home, df_elo21, 'Team')"
   ]
  },
  {
   "cell_type": "code",
   "execution_count": 516,
   "metadata": {},
   "outputs": [
    {
     "data": {
      "text/plain": [
       "['Korea, Rep.',\n",
       " 'Russian Federation',\n",
       " 'Turkiye',\n",
       " 'Iran, Islamic Rep.',\n",
       " \"Cote d'Ivoire\",\n",
       " 'Slovak Republic',\n",
       " \"Korea, Dem. People's Rep.\",\n",
       " 'Egypt, Arab Rep.',\n",
       " 'Virgin Islands (U.S.)',\n",
       " 'St. Kitts and Nevis']"
      ]
     },
     "execution_count": 516,
     "metadata": {},
     "output_type": "execute_result"
    }
   ],
   "source": [
    "missing_list"
   ]
  },
  {
   "cell_type": "code",
   "execution_count": 517,
   "metadata": {},
   "outputs": [],
   "source": [
    "correct_names_elo = {\n",
    " 'Ivory Coast': \"Cote d'Ivoire\",\n",
    " 'Egypt': 'Egypt, Arab Rep.',\n",
    " 'Iran': 'Iran, Islamic Rep.',\n",
    " 'North Korea': \"Korea, Dem. People's Rep.\",\n",
    " 'South Korea': 'Korea, Rep.',\n",
    " 'Russia': 'Russian Federation',\n",
    " 'Slovakia': 'Slovak Republic',\n",
    " 'Turkey': 'Turkiye',\n",
    " 'Serbia and Montenegro': 'Serbia',\n",
    " 'Venezuela': 'Venezuela, RB',\n",
    " 'British Virgin Islands': 'Virgin Islands (U.S.)',\n",
    " 'Saint Kitts and Nevis': 'St. Kitts and Nevis',\n",
    " 'Saint Lucia': 'St. Lucia',\n",
    " 'Macedonia': 'North Macedonia',\n",
    " \"Côte d'Ivoire\": 'Cote d\\'Ivoire',\n",
    "}"
   ]
  },
  {
   "cell_type": "code",
   "execution_count": 518,
   "metadata": {},
   "outputs": [],
   "source": [
    "df_elo21['Team'] = df_elo21['Team'].map(correct_names_elo).fillna(df_elo21['Team'])\n",
    "missing_list = check_missing(list_matches_countries_home, df_elo21, 'Team')\n",
    "missing_list"
   ]
  },
  {
   "cell_type": "code",
   "execution_count": null,
   "metadata": {},
   "outputs": [],
   "source": [
    "elo_columns = ['Year', 'Team', 'RK', 'Rating', 'AverageRank', 'AverageRating',\n",
    "               'YearRank', 'YearRating', 'MatchesTotal', 'MathcesHome', 'MatchesAway',\n",
    "               'MatchesNeutral', 'MatchesWins', 'MatchesLosses', 'MatchesDraws',\n",
    "               'GoalsFor', 'GoalsAgainst']"
   ]
  },
  {
   "cell_type": "code",
   "execution_count": null,
   "metadata": {},
   "outputs": [],
   "source": [
    "cols_to_diff = ['MatchesTotal', 'MathcesHome','MatchesAway', 'MatchesNeutral', 'MatchesWins', 'MatchesLosses', 'MatchesDraws', 'GoalsFor', 'GoalsAgainst']\n",
    "colst_not_diff = ['Year', 'RK', 'Team', 'Rating', 'AverageRank', 'AverageRating', 'YearRank' ,'YearRating']"
   ]
  },
  {
   "cell_type": "code",
   "execution_count": null,
   "metadata": {},
   "outputs": [],
   "source": [
    "# since that we h\n",
    "list_of_teams_elo = df_elo21['Team'].unique().tolist()\n",
    "df_elo22 = pd.DataFrame()\n",
    "for team in list_of_teams_elo:\n",
    "    df_diff = df_elo21[df_elo21['Team'] == team].sort_values(by='Year', ascending=True)[cols_to_diff].diff().reset_index()\n",
    "    df_merged = pd.merge(df_elo21[df_elo21['Team'] == team].sort_values(by='Year', ascending=True)[colst_not_diff].reset_index(), df_diff, on='index') \n",
    "    df_elo22 = pd.concat([df_elo22, df_merged], axis=0)"
   ]
  },
  {
   "cell_type": "code",
   "execution_count": null,
   "metadata": {},
   "outputs": [],
   "source": [
    "def add_elo_rating(df_elo2, df_match_eco, elo_columns):  \n",
    "\n",
    "    for row in df_match_eco.index:\n",
    "        for column in elo_columns[2:]:\n",
    "            year_match = df_match_eco.loc[row, 'Year']\n",
    "            if (df_elo2['Team'] == df_match_eco.loc[row, 'Home Team Name']).any():\n",
    "                df_match_eco.loc[row, 'Home_' + column] = df_elo2[(df_elo2['Team'] == df_match_eco.loc[row, 'Home Team Name']) & (df_elo2['Year'] == year_match - 1)][column].values[0]\n",
    "            \n",
    "            else: \n",
    "                df_match_eco.loc[row, 'Home_' + column] = np.nan\n",
    "    \n",
    "            if (df_elo2['Team'] == df_match_eco.loc[row, 'Away Team Name']).any():\n",
    "                df_match_eco.loc[row, 'Away_' + column] = df_elo2[(df_elo2['Team'] == df_match_eco.loc[row, 'Away Team Name']) & (df_elo2['Year'] == year_match - 1)][column].values[0]\n",
    "            \n",
    "            else: \n",
    "                df_match_eco.loc[row, 'Away_' + column] = np.nan\n",
    "            \n",
    "    return df_match_eco"
   ]
  },
  {
   "cell_type": "code",
   "execution_count": null,
   "metadata": {},
   "outputs": [],
   "source": [
    "df_match_eco_elo = add_elo_rating(df_elo22, df_match_eco, elo_columns)"
   ]
  },
  {
   "cell_type": "markdown",
   "metadata": {},
   "source": [
    "## 2.6.3 Merging DataFrames - Matches, Economic, Elo Rating and FIFA Ranking"
   ]
  },
  {
   "cell_type": "code",
   "execution_count": null,
   "metadata": {},
   "outputs": [],
   "source": [
    "list_names_fifa = df_ranking2['Team'].unique().tolist()\n",
    "list_matches_countries_home = df_match_eco_elo['Home Team Name'].unique().tolist()"
   ]
  },
  {
   "cell_type": "code",
   "execution_count": null,
   "metadata": {},
   "outputs": [],
   "source": [
    "missing_list = check_missing(list_matches_countries_home, df_ranking2, 'Team')"
   ]
  },
  {
   "cell_type": "code",
   "execution_count": null,
   "metadata": {},
   "outputs": [
    {
     "data": {
      "text/plain": [
       "['United States',\n",
       " 'Korea, Rep.',\n",
       " 'Ireland',\n",
       " 'Russian Federation',\n",
       " 'China',\n",
       " 'Turkiye',\n",
       " 'Iran, Islamic Rep.',\n",
       " \"Cote d'Ivoire\",\n",
       " 'Slovak Republic',\n",
       " \"Korea, Dem. People's Rep.\",\n",
       " 'Egypt, Arab Rep.',\n",
       " 'Virgin Islands (U.S.)']"
      ]
     },
     "execution_count": 442,
     "metadata": {},
     "output_type": "execute_result"
    }
   ],
   "source": [
    "missing_list"
   ]
  },
  {
   "cell_type": "code",
   "execution_count": null,
   "metadata": {},
   "outputs": [],
   "source": [
    "map_ranking = {'Korea Republic': 'Korea, Rep.',\n",
    "               'Republic of Ireland': 'Ireland',\n",
    "               'Czech Republic': 'Czechia',\n",
    "               'Russia': 'Russian Federation',\n",
    "               'USA':'United States',\n",
    "               'IR Iran': 'Iran, Islamic Rep.',\n",
    "               'Turkey': 'Turkiye',\n",
    "               'China PR': 'China',\n",
    "               'Côte d\\'Ivoire':'Cote d\\'Ivoire',\n",
    "               'Slovakia': 'Slovak Republic',\n",
    "               'Korea DPR': 'Korea, Dem. People\\'s Rep.',\n",
    "               'Serbia and Montenegro': 'Serbia',\n",
    "               'Egypt': 'Egypt, Arab Rep.',\n",
    "               'Venezuela': 'Venezuela, RB',\n",
    "               'US Virgin Islands': 'Virgin Islands (U.S.)',\n",
    "               'FYR Macedonia': 'North Macedonia'}"
   ]
  },
  {
   "cell_type": "code",
   "execution_count": null,
   "metadata": {},
   "outputs": [],
   "source": [
    "df_ranking2['Team'] = df_ranking2['Team'].map(map_ranking).fillna(df_ranking2['Team'])"
   ]
  },
  {
   "cell_type": "code",
   "execution_count": null,
   "metadata": {},
   "outputs": [
    {
     "data": {
      "text/plain": [
       "[]"
      ]
     },
     "execution_count": 445,
     "metadata": {},
     "output_type": "execute_result"
    }
   ],
   "source": [
    "missing_list = check_missing(list_matches_countries_home, df_ranking2, 'Team')\n",
    "missing_list"
   ]
  },
  {
   "cell_type": "code",
   "execution_count": null,
   "metadata": {},
   "outputs": [],
   "source": [
    "def add_fifa_ranking_attr(df_ranking2, df_match_eco_elo):  \n",
    "\n",
    "    for row in df_match_eco_elo.index:\n",
    "        \n",
    "        for column in df_ranking2[['WorldCup', 'Team', 'RK','PTS']].columns.tolist()[2:]:\n",
    "            year_match = df_match_eco_elo.loc[row, 'Year']\n",
    "            #print(f'row = {row}, column = {column}, year = {year_match}')\n",
    "\n",
    "            if (df_ranking2['Team'] == df_match_eco_elo.loc[row, 'Home Team Name']).any():                \n",
    "                if len(df_ranking2[(df_ranking2['Team'] == df_match_eco_elo.loc[row, 'Home Team Name']) & (df_ranking2['WorldCup'] == year_match)][column]) > 0:\n",
    "                    df_match_eco_elo.loc[row, 'Home_FIFA_' + column] = df_ranking2[(df_ranking2['Team'] == df_match_eco_elo.loc[row, 'Home Team Name']) & (df_ranking2['WorldCup'] == year_match)][column].values[0]\n",
    "            \n",
    "            else: \n",
    "                df_match_eco_elo.loc[row, 'Home_FIFA_' + column] = np.nan\n",
    "    \n",
    "            if (df_ranking2['Team'] == df_match_eco_elo.loc[row, 'Away Team Name']).any():\n",
    "                if len(df_ranking2[(df_ranking2['Team'] == df_match_eco_elo.loc[row, 'Away Team Name']) & (df_ranking2['WorldCup'] == year_match)][column]) > 0:\n",
    "                    df_match_eco_elo.loc[row, 'Away_FIFA_' + column] = df_ranking2[(df_ranking2['Team'] == df_match_eco_elo.loc[row, 'Away Team Name']) & (df_ranking2['WorldCup'] == year_match)][column].values[0]\n",
    "            \n",
    "            else: \n",
    "                df_match_eco_elo.loc[row, 'Away_FIFA_' + column] = np.nan\n",
    "\n",
    "        \n",
    "    return df_match_eco_elo"
   ]
  },
  {
   "cell_type": "code",
   "execution_count": null,
   "metadata": {},
   "outputs": [],
   "source": [
    "df_match_eco_elo_fifa = add_fifa_ranking_attr(df_ranking2, df_match_eco_elo)"
   ]
  },
  {
   "cell_type": "markdown",
   "metadata": {},
   "source": [
    "# 3. Inserting Team Continent Variable"
   ]
  },
  {
   "cell_type": "code",
   "execution_count": null,
   "metadata": {},
   "outputs": [],
   "source": [
    "df_continents = pd.read_csv('./datasets/international_matches_raw.csv')"
   ]
  },
  {
   "cell_type": "code",
   "execution_count": null,
   "metadata": {},
   "outputs": [],
   "source": [
    "list_of_home = df_match_eco_elo_fifa['Home Team Name'].unique().tolist()"
   ]
  },
  {
   "cell_type": "code",
   "execution_count": null,
   "metadata": {},
   "outputs": [],
   "source": [
    "missing_list = check_missing(list_of_home, df_continents, 'home_team')"
   ]
  },
  {
   "cell_type": "code",
   "execution_count": null,
   "metadata": {},
   "outputs": [],
   "source": [
    "map_missing_cont = {'USA': 'United States',\n",
    "                    'Korea Republic': 'Korea, Rep.',\n",
    "                    'Republic of Ireland': 'Ireland',\n",
    "                    'Russia': 'Russian Federation',\n",
    "                    'China PR': 'China',\n",
    "                    'Turkey': 'Turkiye',\n",
    "                    'Czech Republic': 'Czechia',\n",
    "                    'IR Iran': 'Iran, Islamic Rep.',\n",
    "                    'Ivory Coast': \"Cote d'Ivoire\",\n",
    "                    'Côte d\\'Ivoire': \"Cote d'Ivoire\",\n",
    "                    'Slovakia': 'Slovak Republic',\n",
    "                    'Korea DPR': \"Korea, Dem. People's Rep.\",\n",
    "                    'Egypt': 'Egypt, Arab Rep.',\n",
    "                    'Venezuela': 'Venezuela, RB',\n",
    "                    'US Virgin Islands': 'Virgin Islands (U.S.)'}"
   ]
  },
  {
   "cell_type": "code",
   "execution_count": null,
   "metadata": {},
   "outputs": [],
   "source": [
    "df_continents['home_team'] = df_continents['home_team'].map(map_missing_cont).fillna(df_continents['home_team'])"
   ]
  },
  {
   "cell_type": "code",
   "execution_count": null,
   "metadata": {},
   "outputs": [],
   "source": [
    "missing_list = check_missing(list_of_home, df_continents, 'home_team')"
   ]
  },
  {
   "cell_type": "code",
   "execution_count": null,
   "metadata": {},
   "outputs": [
    {
     "data": {
      "text/plain": [
       "['Yugoslavia']"
      ]
     },
     "execution_count": 454,
     "metadata": {},
     "output_type": "execute_result"
    }
   ],
   "source": [
    "missing_list"
   ]
  },
  {
   "cell_type": "code",
   "execution_count": null,
   "metadata": {},
   "outputs": [],
   "source": [
    "dict_of_continents = df_continents[['home_team', 'home_team_continent']].set_index('home_team').to_dict()['home_team_continent']"
   ]
  },
  {
   "cell_type": "code",
   "execution_count": null,
   "metadata": {},
   "outputs": [],
   "source": [
    "dict_of_continents.update({'Yugoslavia': 'Europe'})"
   ]
  },
  {
   "cell_type": "code",
   "execution_count": null,
   "metadata": {},
   "outputs": [],
   "source": [
    "df_match_eco_elo_fifa_continents = df_match_eco_elo_fifa.copy()"
   ]
  },
  {
   "cell_type": "code",
   "execution_count": null,
   "metadata": {},
   "outputs": [],
   "source": [
    "df_match_eco_elo_fifa_continents['Home Team Continent'] = df_match_eco_elo_fifa_continents['Home Team Name'].map(dict_of_continents).fillna(df_match_eco_elo_fifa_continents['Home Team Continent'])\n",
    "df_match_eco_elo_fifa_continents['Away Team Continent'] = df_match_eco_elo_fifa_continents['Away Team Name'].map(dict_of_continents).fillna(df_match_eco_elo_fifa_continents['Away Team Continent'])\n"
   ]
  },
  {
   "cell_type": "code",
   "execution_count": null,
   "metadata": {},
   "outputs": [
    {
     "data": {
      "text/html": [
       "<div>\n",
       "<style scoped>\n",
       "    .dataframe tbody tr th:only-of-type {\n",
       "        vertical-align: middle;\n",
       "    }\n",
       "\n",
       "    .dataframe tbody tr th {\n",
       "        vertical-align: top;\n",
       "    }\n",
       "\n",
       "    .dataframe thead th {\n",
       "        text-align: right;\n",
       "    }\n",
       "</style>\n",
       "<table border=\"1\" class=\"dataframe\">\n",
       "  <thead>\n",
       "    <tr style=\"text-align: right;\">\n",
       "      <th></th>\n",
       "      <th>Year</th>\n",
       "      <th>Datetime</th>\n",
       "      <th>Home Team Name</th>\n",
       "      <th>Away Team Name</th>\n",
       "      <th>Home Team Goals</th>\n",
       "      <th>Away Team Goals</th>\n",
       "      <th>Home_GDP</th>\n",
       "      <th>Home_POP</th>\n",
       "      <th>Home_INC</th>\n",
       "      <th>Away_GDP</th>\n",
       "      <th>...</th>\n",
       "      <th>Home_GoalsFor</th>\n",
       "      <th>Away_GoalsFor</th>\n",
       "      <th>Home_GoalsAgainst</th>\n",
       "      <th>Away_GoalsAgainst</th>\n",
       "      <th>Home_FIFA_RK</th>\n",
       "      <th>Away_FIFA_RK</th>\n",
       "      <th>Home_FIFA_PTS</th>\n",
       "      <th>Away_FIFA_PTS</th>\n",
       "      <th>Home Team Continent</th>\n",
       "      <th>Away Team Continent</th>\n",
       "    </tr>\n",
       "  </thead>\n",
       "  <tbody>\n",
       "  </tbody>\n",
       "</table>\n",
       "<p>0 rows × 48 columns</p>\n",
       "</div>"
      ],
      "text/plain": [
       "Empty DataFrame\n",
       "Columns: [Year, Datetime, Home Team Name, Away Team Name, Home Team Goals, Away Team Goals, Home_GDP, Home_POP, Home_INC, Away_GDP, Away_POP, Away_INC, Home_RK, Away_RK, Home_Rating, Away_Rating, Home_AverageRank, Away_AverageRank, Home_AverageRating, Away_AverageRating, Home_YearRank, Away_YearRank, Home_YearRating, Away_YearRating, Home_MatchesTotal, Away_MatchesTotal, Home_MathcesHome, Away_MathcesHome, Home_MatchesAway, Away_MatchesAway, Home_MatchesNeutral, Away_MatchesNeutral, Home_MatchesWins, Away_MatchesWins, Home_MatchesLosses, Away_MatchesLosses, Home_MatchesDraws, Away_MatchesDraws, Home_GoalsFor, Away_GoalsFor, Home_GoalsAgainst, Away_GoalsAgainst, Home_FIFA_RK, Away_FIFA_RK, Home_FIFA_PTS, Away_FIFA_PTS, Home Team Continent, Away Team Continent]\n",
       "Index: []\n",
       "\n",
       "[0 rows x 48 columns]"
      ]
     },
     "execution_count": 459,
     "metadata": {},
     "output_type": "execute_result"
    }
   ],
   "source": [
    "df_match_eco_elo_fifa_continents[df_match_eco_elo_fifa_continents['Away Team Continent'].isna()]"
   ]
  },
  {
   "cell_type": "markdown",
   "metadata": {},
   "source": [
    "# 4. Saving into CSV"
   ]
  },
  {
   "cell_type": "code",
   "execution_count": null,
   "metadata": {},
   "outputs": [],
   "source": [
    "new_order = ['Year', 'Datetime', 'Home Team Name', 'Away Team Name','Home Team Continent',\n",
    "             'Away Team Continent', 'Home_GDP', 'Home_POP',\n",
    "             'Home_INC', 'Away_GDP', 'Away_POP', 'Away_INC', 'Home_RK', 'Away_RK',\n",
    "             'Home_Rating', 'Away_Rating', 'Home_AverageRank', 'Away_AverageRank',\n",
    "             'Home_AverageRating', 'Away_AverageRating', 'Home_YearRank',\n",
    "             'Away_YearRank', 'Home_YearRating', 'Away_YearRating',\n",
    "             'Home_MatchesTotal', 'Away_MatchesTotal', 'Home_MathcesHome',\n",
    "             'Away_MathcesHome', 'Home_MatchesAway', 'Away_MatchesAway',\n",
    "             'Home_MatchesNeutral', 'Away_MatchesNeutral', 'Home_MatchesWins',\n",
    "             'Away_MatchesWins', 'Home_MatchesLosses', 'Away_MatchesLosses',\n",
    "             'Home_MatchesDraws', 'Away_MatchesDraws', 'Home_GoalsFor',\n",
    "             'Away_GoalsFor', 'Home_GoalsAgainst', 'Away_GoalsAgainst',\n",
    "             'Home_FIFA_RK', 'Away_FIFA_RK', 'Home_FIFA_PTS', 'Away_FIFA_PTS',\n",
    "             'Home Team Goals', 'Away Team Goals']"
   ]
  },
  {
   "cell_type": "code",
   "execution_count": null,
   "metadata": {},
   "outputs": [],
   "source": [
    "df_match_eco_elo_fifa_continents = df_match_eco_elo_fifa_continents[new_order]"
   ]
  },
  {
   "cell_type": "code",
   "execution_count": null,
   "metadata": {},
   "outputs": [],
   "source": [
    "df_final = df_match_eco_elo_fifa_continents.drop_duplicates()"
   ]
  },
  {
   "cell_type": "code",
   "execution_count": null,
   "metadata": {},
   "outputs": [],
   "source": [
    "df_final.to_csv('./datasets/final_dataset/finished_dataset.csv')"
   ]
  }
 ],
 "metadata": {
  "kernelspec": {
   "display_name": "Python 3.9.13 ('worldcup')",
   "language": "python",
   "name": "python3"
  },
  "language_info": {
   "codemirror_mode": {
    "name": "ipython",
    "version": 3
   },
   "file_extension": ".py",
   "mimetype": "text/x-python",
   "name": "python",
   "nbconvert_exporter": "python",
   "pygments_lexer": "ipython3",
   "version": "3.9.13"
  },
  "orig_nbformat": 4,
  "vscode": {
   "interpreter": {
    "hash": "150838fb8a3e03aeaa43351e81d59d8256ddc2316d1d1fa81b8d70fbecc6b8a2"
   }
  }
 },
 "nbformat": 4,
 "nbformat_minor": 2
}
