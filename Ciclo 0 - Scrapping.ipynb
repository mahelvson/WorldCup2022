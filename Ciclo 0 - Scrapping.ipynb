{
 "cells": [
  {
   "cell_type": "markdown",
   "id": "b80e1538",
   "metadata": {},
   "source": [
    "# 0. Imports "
   ]
  },
  {
   "cell_type": "code",
   "execution_count": 1,
   "id": "d601a279",
   "metadata": {},
   "outputs": [],
   "source": [
    "import pandas as pd\n",
    "from scrapper import fifa_ranking"
   ]
  },
  {
   "cell_type": "markdown",
   "id": "93d78d5a",
   "metadata": {},
   "source": [
    "# 1. Checking Dates"
   ]
  },
  {
   "cell_type": "markdown",
   "id": "3da0cf1d",
   "metadata": {},
   "source": [
    "Checking ids, dates and template for all ranking pages"
   ]
  },
  {
   "cell_type": "code",
   "execution_count": 2,
   "id": "6f1edf9f",
   "metadata": {},
   "outputs": [],
   "source": [
    "ranking, dict_of_dates = fifa_ranking.connect_fifa_ranking()\n",
    "first_id, last_id, template = ranking"
   ]
  },
  {
   "cell_type": "code",
   "execution_count": 3,
   "id": "a4a06e15",
   "metadata": {},
   "outputs": [
    {
     "name": "stdout",
     "output_type": "stream",
     "text": [
      "The first date is 31 Dec 1992\n",
      "The last date is 6 Oct 2022\n",
      "Print dict_of_dates if you want to check all available\n"
     ]
    }
   ],
   "source": [
    "print(f'The first date is {list(dict_of_dates.values())[-1]}')\n",
    "print(f'The last date is {list(dict_of_dates.values())[0]}')\n",
    "print('Print dict_of_dates if you want to check all available')"
   ]
  },
  {
   "cell_type": "code",
   "execution_count": 4,
   "id": "cbb82c3d",
   "metadata": {},
   "outputs": [
    {
     "name": "stdout",
     "output_type": "stream",
     "text": [
      "The first Id is 1\n",
      "The last Id is 13792\n",
      "The template for raking pages is https://www.fifa.com/fifa-world-ranking/men?dateId=id\n"
     ]
    }
   ],
   "source": [
    "print(f'The first Id is {first_id}')\n",
    "print(f'The last Id is {last_id}')\n",
    "print(f'The template for raking pages is {template}')"
   ]
  },
  {
   "cell_type": "markdown",
   "id": "f7c293ac",
   "metadata": {},
   "source": [
    "# 2. Scrapping only one date available in ranking"
   ]
  },
  {
   "cell_type": "markdown",
   "id": "7e74a7a3",
   "metadata": {},
   "source": [
    "You have to check one specific id to check it's date"
   ]
  },
  {
   "cell_type": "code",
   "execution_count": 5,
   "id": "26e9f6ee",
   "metadata": {},
   "outputs": [
    {
     "ename": "TimeoutException",
     "evalue": "Message: \n",
     "output_type": "error",
     "traceback": [
      "\u001b[0;31m---------------------------------------------------------------------------\u001b[0m",
      "\u001b[0;31mTimeoutException\u001b[0m                          Traceback (most recent call last)",
      "Cell \u001b[0;32mIn [5], line 1\u001b[0m\n\u001b[0;32m----> 1\u001b[0m df_single_ranking_full \u001b[39m=\u001b[39m fifa_ranking\u001b[39m.\u001b[39;49mread_single_date_ranking(ranking_id\u001b[39m=\u001b[39;49m\u001b[39m1\u001b[39;49m, template\u001b[39m=\u001b[39;49mtemplate, dict_of_dates\u001b[39m=\u001b[39;49mdict_of_dates)\n",
      "File \u001b[0;32m~/Desktop/Portfolio/WorldCup2022/scrapper/fifa_ranking.py:100\u001b[0m, in \u001b[0;36mread_single_date_ranking\u001b[0;34m(ranking_id, template, dict_of_dates)\u001b[0m\n\u001b[1;32m     98\u001b[0m driver\u001b[39m.\u001b[39mget(main_url)\n\u001b[1;32m     99\u001b[0m number_of_pages \u001b[39m=\u001b[39m check_pages_number(driver)\n\u001b[0;32m--> 100\u001b[0m df_single_ranking \u001b[39m=\u001b[39m get_single_table(driver, \u001b[39mlen\u001b[39;49m(number_of_pages))\n\u001b[1;32m    101\u001b[0m driver\u001b[39m.\u001b[39mquit()\n\u001b[1;32m    103\u001b[0m \u001b[39mreturn\u001b[39;00m df_single_ranking\n",
      "File \u001b[0;32m~/Desktop/Portfolio/WorldCup2022/scrapper/fifa_ranking.py:75\u001b[0m, in \u001b[0;36mget_single_table\u001b[0;34m(driver, number_of_pages)\u001b[0m\n\u001b[1;32m     73\u001b[0m     df_full_ranking \u001b[39m=\u001b[39m pd\u001b[39m.\u001b[39mconcat([df_full_ranking, df_single_table], axis\u001b[39m=\u001b[39m\u001b[39m0\u001b[39m)\n\u001b[1;32m     74\u001b[0m     wait \u001b[39m=\u001b[39m WebDriverWait(driver, \u001b[39m25\u001b[39m)\n\u001b[0;32m---> 75\u001b[0m     element \u001b[39m=\u001b[39m wait\u001b[39m.\u001b[39;49muntil(EC\u001b[39m.\u001b[39;49melement_to_be_clickable((By\u001b[39m.\u001b[39;49mXPATH, \u001b[39m\"\u001b[39;49m\u001b[39m/html/body/div[1]/div/div[3]/main/section[2]/div/div/div[2]/div/div/div/div/div[3]/div/button/div/svg\u001b[39;49m\u001b[39m\"\u001b[39;49m)))\n\u001b[1;32m     76\u001b[0m     element\u001b[39m.\u001b[39mclick()\n\u001b[1;32m     77\u001b[0m \u001b[39m#df_single_table['Team'] = df_single_table.apply(filter_names, axis=1)\u001b[39;00m\n",
      "File \u001b[0;32m~/opt/anaconda3/envs/worldcup/lib/python3.9/site-packages/selenium/webdriver/support/wait.py:80\u001b[0m, in \u001b[0;36mWebDriverWait.until\u001b[0;34m(self, method, message)\u001b[0m\n\u001b[1;32m     78\u001b[0m     \u001b[39mif\u001b[39;00m time\u001b[39m.\u001b[39mtime() \u001b[39m>\u001b[39m end_time:\n\u001b[1;32m     79\u001b[0m         \u001b[39mbreak\u001b[39;00m\n\u001b[0;32m---> 80\u001b[0m \u001b[39mraise\u001b[39;00m TimeoutException(message, screen, stacktrace)\n",
      "\u001b[0;31mTimeoutException\u001b[0m: Message: \n"
     ]
    }
   ],
   "source": [
    "df_single_ranking_full = fifa_ranking.read_single_date_ranking(ranking_id=1, template=template, dict_of_dates=dict_of_dates)"
   ]
  },
  {
   "cell_type": "code",
   "execution_count": null,
   "id": "03a392f9",
   "metadata": {},
   "outputs": [],
   "source": []
  }
 ],
 "metadata": {
  "kernelspec": {
   "display_name": "Python 3.9.13 ('worldcup')",
   "language": "python",
   "name": "python3"
  },
  "language_info": {
   "codemirror_mode": {
    "name": "ipython",
    "version": 3
   },
   "file_extension": ".py",
   "mimetype": "text/x-python",
   "name": "python",
   "nbconvert_exporter": "python",
   "pygments_lexer": "ipython3",
   "version": "3.9.13"
  },
  "vscode": {
   "interpreter": {
    "hash": "150838fb8a3e03aeaa43351e81d59d8256ddc2316d1d1fa81b8d70fbecc6b8a2"
   }
  }
 },
 "nbformat": 4,
 "nbformat_minor": 5
}
