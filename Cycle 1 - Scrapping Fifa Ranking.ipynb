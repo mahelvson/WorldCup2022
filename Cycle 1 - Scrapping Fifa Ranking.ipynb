{
 "cells": [
  {
   "cell_type": "markdown",
   "id": "b80e1538",
   "metadata": {},
   "source": [
    "# 0. Imports "
   ]
  },
  {
   "cell_type": "code",
   "execution_count": 1,
   "id": "d601a279",
   "metadata": {},
   "outputs": [],
   "source": [
    "import pandas as pd\n",
    "import numpy as np\n",
    "from scrapper import fifa_ranking"
   ]
  },
  {
   "cell_type": "markdown",
   "id": "93d78d5a",
   "metadata": {},
   "source": [
    "# 1. Checking Dates"
   ]
  },
  {
   "cell_type": "markdown",
   "id": "3da0cf1d",
   "metadata": {},
   "source": [
    "Checking ids, dates and template for all ranking pages"
   ]
  },
  {
   "cell_type": "code",
   "execution_count": 2,
   "id": "6f1edf9f",
   "metadata": {},
   "outputs": [],
   "source": [
    "ranking, dict_of_dates = fifa_ranking.connect_fifa_ranking()\n",
    "first_id, last_id, template = ranking"
   ]
  },
  {
   "cell_type": "code",
   "execution_count": 3,
   "id": "a4a06e15",
   "metadata": {},
   "outputs": [
    {
     "name": "stdout",
     "output_type": "stream",
     "text": [
      "The first date is 31 Dec 1992\n",
      "The last date is 6 Oct 2022\n",
      "Print dict_of_dates if you want to check all available\n"
     ]
    }
   ],
   "source": [
    "print(f'The first date is {list(dict_of_dates.values())[-1]}')\n",
    "print(f'The last date is {list(dict_of_dates.values())[0]}')\n",
    "print('Print dict_of_dates if you want to check all available')"
   ]
  },
  {
   "cell_type": "code",
   "execution_count": 4,
   "id": "cbb82c3d",
   "metadata": {},
   "outputs": [
    {
     "name": "stdout",
     "output_type": "stream",
     "text": [
      "The first Id is 1\n",
      "The last Id is 13792\n",
      "The template for raking pages is https://www.fifa.com/fifa-world-ranking/men?dateId=\n"
     ]
    }
   ],
   "source": [
    "print(f'The first Id is {first_id}')\n",
    "print(f'The last Id is {last_id}')\n",
    "print(f'The template for raking pages is {template}')"
   ]
  },
  {
   "cell_type": "markdown",
   "id": "f7c293ac",
   "metadata": {},
   "source": [
    "# 2. Scrapping only one date available in ranking"
   ]
  },
  {
   "cell_type": "markdown",
   "id": "7e74a7a3",
   "metadata": {},
   "source": [
    "You have to check one specific id to check it's date"
   ]
  },
  {
   "cell_type": "code",
   "execution_count": 5,
   "id": "26e9f6ee",
   "metadata": {},
   "outputs": [
    {
     "name": "stdout",
     "output_type": "stream",
     "text": [
      "main_url = https://www.fifa.com/fifa-world-ranking/men?dateId=id1\n",
      "3 page(s) to scrap\n"
     ]
    }
   ],
   "source": [
    "df_single_ranking_full = fifa_ranking.read_single_date_ranking(ranking_id='id1', template=template, dict_of_dates=dict_of_dates)"
   ]
  },
  {
   "cell_type": "markdown",
   "id": "70bc339a",
   "metadata": {},
   "source": [
    "# 3. Scrapping tha last rank before each World Cup"
   ]
  },
  {
   "cell_type": "markdown",
   "id": "ce4cabac",
   "metadata": {},
   "source": [
    "All rankings right before 1994, 1998, 2002, 2006, 2010, 2014, 2018 and 2022 edition."
   ]
  },
  {
   "cell_type": "code",
   "execution_count": 6,
   "id": "a3a875d9",
   "metadata": {},
   "outputs": [],
   "source": [
    "# the day of the beginning of each WC edition\n",
    "dict_of_world_cups = {\n",
    "    'wc1994': '17-06-1994',\n",
    "    'wc1998': '10-06-1998',\n",
    "    'wc2002': '31-05-2002',\n",
    "    'wc2006': '09-06-2006',\n",
    "    'wc2010': '11-06-2010',\n",
    "    'wc2014': '12-06-2014',\n",
    "    'wc2018': '14-06-2018',\n",
    "    'wc2022': '20-11-2022'\n",
    "}"
   ]
  },
  {
   "cell_type": "code",
   "execution_count": 7,
   "id": "e568884b",
   "metadata": {},
   "outputs": [
    {
     "name": "stdout",
     "output_type": "stream",
     "text": [
      "For 1994 World Cup, the closest date in ranking is 14 Jun 1994, and the respective key is id11\n",
      "For 1998 World Cup, the closest date in ranking is 20 May 1998, and the respective key is id50\n",
      "For 2002 World Cup, the closest date in ranking is 15 May 2002, and the respective key is id97\n",
      "For 2006 World Cup, the closest date in ranking is 17 May 2006, and the respective key is id145\n",
      "For 2010 World Cup, the closest date in ranking is 26 May 2010, and the respective key is id9276\n",
      "For 2014 World Cup, the closest date in ranking is 5 Jun 2014, and the respective key is id10747\n",
      "For 2018 World Cup, the closest date in ranking is 7 Jun 2018, and the respective key is id12210\n",
      "For 2022 World Cup, the closest date in ranking is 6 Oct 2022, and the respective key is id13792\n"
     ]
    }
   ],
   "source": [
    "# Checking the last ranking release before WC\n",
    "keys = []\n",
    "for key in dict_of_world_cups:\n",
    "    date = pd.to_datetime(dict_of_world_cups[key], dayfirst=True)\n",
    "    closest_date = np.array(list(dict_of_dates.values()))[np.array(pd.to_datetime(list(dict_of_dates.values()), dayfirst=True)) < date][0]\n",
    "    closest_key = np.array(list(dict_of_dates.keys()))[np.array(pd.to_datetime(list(dict_of_dates.values()), dayfirst=True)) < date][0]\n",
    "    keys.append(closest_key)\n",
    "    print(f'For {date.year} World Cup, the closest date in ranking is {closest_date}, and the respective key is {closest_key}')\n",
    "    "
   ]
  },
  {
   "cell_type": "code",
   "execution_count": 8,
   "id": "1a2a7005",
   "metadata": {},
   "outputs": [
    {
     "data": {
      "text/plain": [
       "['id11', 'id50', 'id97', 'id145', 'id9276', 'id10747', 'id12210', 'id13792']"
      ]
     },
     "execution_count": 8,
     "metadata": {},
     "output_type": "execute_result"
    }
   ],
   "source": [
    "keys"
   ]
  },
  {
   "cell_type": "code",
   "execution_count": 9,
   "id": "d608b730",
   "metadata": {},
   "outputs": [
    {
     "name": "stdout",
     "output_type": "stream",
     "text": [
      "Scrapping Ranking in 14 Jun 1994\n",
      "main_url = https://www.fifa.com/fifa-world-ranking/men?dateId=id11\n",
      "4 page(s) to scrap\n",
      "Scrapping Ranking in 20 May 1998\n",
      "main_url = https://www.fifa.com/fifa-world-ranking/men?dateId=id50\n",
      "4 page(s) to scrap\n",
      "Scrapping Ranking in 15 May 2002\n",
      "main_url = https://www.fifa.com/fifa-world-ranking/men?dateId=id97\n",
      "5 page(s) to scrap\n",
      "Scrapping Ranking in 17 May 2006\n",
      "main_url = https://www.fifa.com/fifa-world-ranking/men?dateId=id145\n",
      "5 page(s) to scrap\n",
      "Scrapping Ranking in 26 May 2010\n",
      "main_url = https://www.fifa.com/fifa-world-ranking/men?dateId=id9276\n",
      "5 page(s) to scrap\n",
      "Scrapping Ranking in 5 Jun 2014\n",
      "main_url = https://www.fifa.com/fifa-world-ranking/men?dateId=id10747\n",
      "5 page(s) to scrap\n",
      "Scrapping Ranking in 7 Jun 2018\n",
      "main_url = https://www.fifa.com/fifa-world-ranking/men?dateId=id12210\n",
      "5 page(s) to scrap\n",
      "Scrapping Ranking in 6 Oct 2022\n",
      "main_url = https://www.fifa.com/fifa-world-ranking/men?dateId=id13792\n",
      "5 page(s) to scrap\n"
     ]
    }
   ],
   "source": [
    "df_ranking = fifa_ranking.read_a_list_of_dates(keys, template, dict_of_dates)"
   ]
  },
  {
   "cell_type": "code",
   "execution_count": 10,
   "id": "4e2d0c56",
   "metadata": {},
   "outputs": [],
   "source": [
    "df_ranking.to_csv('./datasets/ranking_before_wc.csv')"
   ]
  }
 ],
 "metadata": {
  "kernelspec": {
   "display_name": "Python 3.9.13 ('worldcup')",
   "language": "python",
   "name": "python3"
  },
  "language_info": {
   "codemirror_mode": {
    "name": "ipython",
    "version": 3
   },
   "file_extension": ".py",
   "mimetype": "text/x-python",
   "name": "python",
   "nbconvert_exporter": "python",
   "pygments_lexer": "ipython3",
   "version": "3.9.13"
  },
  "vscode": {
   "interpreter": {
    "hash": "150838fb8a3e03aeaa43351e81d59d8256ddc2316d1d1fa81b8d70fbecc6b8a2"
   }
  }
 },
 "nbformat": 4,
 "nbformat_minor": 5
}
